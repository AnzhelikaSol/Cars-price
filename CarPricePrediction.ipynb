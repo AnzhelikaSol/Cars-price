{
 "cells": [
  {
   "cell_type": "markdown",
   "id": "332d25d3",
   "metadata": {
    "papermill": {
     "duration": 0.012943,
     "end_time": "2023-10-25T22:35:26.344502",
     "exception": false,
     "start_time": "2023-10-25T22:35:26.331559",
     "status": "completed"
    },
    "tags": []
   },
   "source": [
    "https://www.kaggle.com/code/romankholodkov/car-prices-prediction\n",
    "\n",
    "### Price car prediction\n",
    "\n",
    "We can find out the market price of a car.\n",
    "We will build different models that know how to determine it (the simple model and the gradient boosting ones). The RMSE measure will show us which model works better.\n",
    "\n",
    "There are data on the technical characteristics, equipment and prices of other vehicles:\n",
    "\n",
    "* DateCrawled — date of downloading the questionnaire from the database;\n",
    "\n",
    "* VehicleType — car body type;\n",
    "\n",
    "* RegistrationYear — year of car registration;\n",
    "\n",
    "* Gearbox — gearbox type;\n",
    "\n",
    "* Power — power (hp);\n",
    "\n",
    "* Model — car model;\n",
    "\n",
    "* Kilometer — mileage (km);\n",
    "\n",
    "* RegistrationMonth — month of car registration;\n",
    "\n",
    "* FuelType — fuel type;\n",
    "\n",
    "* Brand — car brand;\n",
    "\n",
    "* Repaired — was the car under repair or not;\n",
    "\n",
    "* DateCreated — date of creation of the questionnaire;\n",
    "\n",
    "* NumberOfPictures — number of car's pictures;\n",
    "\n",
    "* PostalCode — user's postal code;\n",
    "\n",
    "* LastSeen — date of last user activity.\n",
    "\n",
    "\n",
    "Response variable, target:\n",
    "\n",
    "    Price — car price (euro)."
   ]
  },
  {
   "cell_type": "markdown",
   "id": "ecafe041",
   "metadata": {
    "papermill": {
     "duration": 0.012287,
     "end_time": "2023-10-25T22:35:26.369552",
     "exception": false,
     "start_time": "2023-10-25T22:35:26.357265",
     "status": "completed"
    },
    "tags": []
   },
   "source": [
    "## 1. Data preparation"
   ]
  },
  {
   "cell_type": "code",
   "execution_count": 1,
   "id": "bf878ad3",
   "metadata": {
    "execution": {
     "iopub.execute_input": "2023-10-25T22:35:26.398095Z",
     "iopub.status.busy": "2023-10-25T22:35:26.396357Z",
     "iopub.status.idle": "2023-10-25T22:35:30.049507Z",
     "shell.execute_reply": "2023-10-25T22:35:30.048090Z"
    },
    "papermill": {
     "duration": 3.670103,
     "end_time": "2023-10-25T22:35:30.052417",
     "exception": false,
     "start_time": "2023-10-25T22:35:26.382314",
     "status": "completed"
    },
    "tags": []
   },
   "outputs": [],
   "source": [
    "import pandas as pd \n",
    "import numpy as np\n",
    "import scipy\n",
    "from scipy import stats as st\n",
    "import matplotlib.pyplot as plt \n",
    "from sklearn.model_selection import train_test_split\n",
    "from sklearn.model_selection import cross_val_score\n",
    "from sklearn.preprocessing import StandardScaler \n",
    "from catboost import CatBoostRegressor\n",
    "import lightgbm as lgb\n",
    "import xgboost as xgb\n",
    "from sklearn.linear_model import LinearRegression\n",
    "from sklearn.model_selection import GridSearchCV\n",
    "from sklearn.svm import SVC\n",
    "from sklearn.metrics import mean_squared_error"
   ]
  },
  {
   "cell_type": "code",
   "execution_count": 2,
   "id": "c1a78cc7",
   "metadata": {
    "execution": {
     "iopub.execute_input": "2023-10-25T22:35:30.080459Z",
     "iopub.status.busy": "2023-10-25T22:35:30.079907Z",
     "iopub.status.idle": "2023-10-25T22:35:31.252514Z",
     "shell.execute_reply": "2023-10-25T22:35:31.251329Z"
    },
    "papermill": {
     "duration": 1.189229,
     "end_time": "2023-10-25T22:35:31.254970",
     "exception": false,
     "start_time": "2023-10-25T22:35:30.065741",
     "status": "completed"
    },
    "scrolled": true,
    "tags": []
   },
   "outputs": [],
   "source": [
    "data = pd.read_csv('/kaggle/input/car-price-prediction/autos.csv')"
   ]
  },
  {
   "cell_type": "code",
   "execution_count": 3,
   "id": "8bdb833d",
   "metadata": {
    "execution": {
     "iopub.execute_input": "2023-10-25T22:35:31.282841Z",
     "iopub.status.busy": "2023-10-25T22:35:31.282239Z",
     "iopub.status.idle": "2023-10-25T22:35:31.311018Z",
     "shell.execute_reply": "2023-10-25T22:35:31.309485Z"
    },
    "papermill": {
     "duration": 0.045486,
     "end_time": "2023-10-25T22:35:31.313245",
     "exception": false,
     "start_time": "2023-10-25T22:35:31.267759",
     "status": "completed"
    },
    "tags": []
   },
   "outputs": [
    {
     "data": {
      "text/html": [
       "<div>\n",
       "<style scoped>\n",
       "    .dataframe tbody tr th:only-of-type {\n",
       "        vertical-align: middle;\n",
       "    }\n",
       "\n",
       "    .dataframe tbody tr th {\n",
       "        vertical-align: top;\n",
       "    }\n",
       "\n",
       "    .dataframe thead th {\n",
       "        text-align: right;\n",
       "    }\n",
       "</style>\n",
       "<table border=\"1\" class=\"dataframe\">\n",
       "  <thead>\n",
       "    <tr style=\"text-align: right;\">\n",
       "      <th></th>\n",
       "      <th>DateCrawled</th>\n",
       "      <th>Price</th>\n",
       "      <th>VehicleType</th>\n",
       "      <th>RegistrationYear</th>\n",
       "      <th>Gearbox</th>\n",
       "      <th>Power</th>\n",
       "      <th>Model</th>\n",
       "      <th>Kilometer</th>\n",
       "      <th>RegistrationMonth</th>\n",
       "      <th>FuelType</th>\n",
       "      <th>Brand</th>\n",
       "      <th>Repaired</th>\n",
       "      <th>DateCreated</th>\n",
       "      <th>NumberOfPictures</th>\n",
       "      <th>PostalCode</th>\n",
       "      <th>LastSeen</th>\n",
       "    </tr>\n",
       "  </thead>\n",
       "  <tbody>\n",
       "    <tr>\n",
       "      <th>0</th>\n",
       "      <td>2016-03-24 11:52:17</td>\n",
       "      <td>480</td>\n",
       "      <td>NaN</td>\n",
       "      <td>1993</td>\n",
       "      <td>manual</td>\n",
       "      <td>0</td>\n",
       "      <td>golf</td>\n",
       "      <td>150000</td>\n",
       "      <td>0</td>\n",
       "      <td>petrol</td>\n",
       "      <td>volkswagen</td>\n",
       "      <td>NaN</td>\n",
       "      <td>2016-03-24 00:00:00</td>\n",
       "      <td>0</td>\n",
       "      <td>70435</td>\n",
       "      <td>2016-04-07 03:16:57</td>\n",
       "    </tr>\n",
       "    <tr>\n",
       "      <th>1</th>\n",
       "      <td>2016-03-24 10:58:45</td>\n",
       "      <td>18300</td>\n",
       "      <td>coupe</td>\n",
       "      <td>2011</td>\n",
       "      <td>manual</td>\n",
       "      <td>190</td>\n",
       "      <td>NaN</td>\n",
       "      <td>125000</td>\n",
       "      <td>5</td>\n",
       "      <td>gasoline</td>\n",
       "      <td>audi</td>\n",
       "      <td>yes</td>\n",
       "      <td>2016-03-24 00:00:00</td>\n",
       "      <td>0</td>\n",
       "      <td>66954</td>\n",
       "      <td>2016-04-07 01:46:50</td>\n",
       "    </tr>\n",
       "    <tr>\n",
       "      <th>2</th>\n",
       "      <td>2016-03-14 12:52:21</td>\n",
       "      <td>9800</td>\n",
       "      <td>suv</td>\n",
       "      <td>2004</td>\n",
       "      <td>auto</td>\n",
       "      <td>163</td>\n",
       "      <td>grand</td>\n",
       "      <td>125000</td>\n",
       "      <td>8</td>\n",
       "      <td>gasoline</td>\n",
       "      <td>jeep</td>\n",
       "      <td>NaN</td>\n",
       "      <td>2016-03-14 00:00:00</td>\n",
       "      <td>0</td>\n",
       "      <td>90480</td>\n",
       "      <td>2016-04-05 12:47:46</td>\n",
       "    </tr>\n",
       "    <tr>\n",
       "      <th>3</th>\n",
       "      <td>2016-03-17 16:54:04</td>\n",
       "      <td>1500</td>\n",
       "      <td>small</td>\n",
       "      <td>2001</td>\n",
       "      <td>manual</td>\n",
       "      <td>75</td>\n",
       "      <td>golf</td>\n",
       "      <td>150000</td>\n",
       "      <td>6</td>\n",
       "      <td>petrol</td>\n",
       "      <td>volkswagen</td>\n",
       "      <td>no</td>\n",
       "      <td>2016-03-17 00:00:00</td>\n",
       "      <td>0</td>\n",
       "      <td>91074</td>\n",
       "      <td>2016-03-17 17:40:17</td>\n",
       "    </tr>\n",
       "    <tr>\n",
       "      <th>4</th>\n",
       "      <td>2016-03-31 17:25:20</td>\n",
       "      <td>3600</td>\n",
       "      <td>small</td>\n",
       "      <td>2008</td>\n",
       "      <td>manual</td>\n",
       "      <td>69</td>\n",
       "      <td>fabia</td>\n",
       "      <td>90000</td>\n",
       "      <td>7</td>\n",
       "      <td>gasoline</td>\n",
       "      <td>skoda</td>\n",
       "      <td>no</td>\n",
       "      <td>2016-03-31 00:00:00</td>\n",
       "      <td>0</td>\n",
       "      <td>60437</td>\n",
       "      <td>2016-04-06 10:17:21</td>\n",
       "    </tr>\n",
       "    <tr>\n",
       "      <th>5</th>\n",
       "      <td>2016-04-04 17:36:23</td>\n",
       "      <td>650</td>\n",
       "      <td>sedan</td>\n",
       "      <td>1995</td>\n",
       "      <td>manual</td>\n",
       "      <td>102</td>\n",
       "      <td>3er</td>\n",
       "      <td>150000</td>\n",
       "      <td>10</td>\n",
       "      <td>petrol</td>\n",
       "      <td>bmw</td>\n",
       "      <td>yes</td>\n",
       "      <td>2016-04-04 00:00:00</td>\n",
       "      <td>0</td>\n",
       "      <td>33775</td>\n",
       "      <td>2016-04-06 19:17:07</td>\n",
       "    </tr>\n",
       "    <tr>\n",
       "      <th>6</th>\n",
       "      <td>2016-04-01 20:48:51</td>\n",
       "      <td>2200</td>\n",
       "      <td>convertible</td>\n",
       "      <td>2004</td>\n",
       "      <td>manual</td>\n",
       "      <td>109</td>\n",
       "      <td>2_reihe</td>\n",
       "      <td>150000</td>\n",
       "      <td>8</td>\n",
       "      <td>petrol</td>\n",
       "      <td>peugeot</td>\n",
       "      <td>no</td>\n",
       "      <td>2016-04-01 00:00:00</td>\n",
       "      <td>0</td>\n",
       "      <td>67112</td>\n",
       "      <td>2016-04-05 18:18:39</td>\n",
       "    </tr>\n",
       "    <tr>\n",
       "      <th>7</th>\n",
       "      <td>2016-03-21 18:54:38</td>\n",
       "      <td>0</td>\n",
       "      <td>sedan</td>\n",
       "      <td>1980</td>\n",
       "      <td>manual</td>\n",
       "      <td>50</td>\n",
       "      <td>other</td>\n",
       "      <td>40000</td>\n",
       "      <td>7</td>\n",
       "      <td>petrol</td>\n",
       "      <td>volkswagen</td>\n",
       "      <td>no</td>\n",
       "      <td>2016-03-21 00:00:00</td>\n",
       "      <td>0</td>\n",
       "      <td>19348</td>\n",
       "      <td>2016-03-25 16:47:58</td>\n",
       "    </tr>\n",
       "    <tr>\n",
       "      <th>8</th>\n",
       "      <td>2016-04-04 23:42:13</td>\n",
       "      <td>14500</td>\n",
       "      <td>bus</td>\n",
       "      <td>2014</td>\n",
       "      <td>manual</td>\n",
       "      <td>125</td>\n",
       "      <td>c_max</td>\n",
       "      <td>30000</td>\n",
       "      <td>8</td>\n",
       "      <td>petrol</td>\n",
       "      <td>ford</td>\n",
       "      <td>NaN</td>\n",
       "      <td>2016-04-04 00:00:00</td>\n",
       "      <td>0</td>\n",
       "      <td>94505</td>\n",
       "      <td>2016-04-04 23:42:13</td>\n",
       "    </tr>\n",
       "    <tr>\n",
       "      <th>9</th>\n",
       "      <td>2016-03-17 10:53:50</td>\n",
       "      <td>999</td>\n",
       "      <td>small</td>\n",
       "      <td>1998</td>\n",
       "      <td>manual</td>\n",
       "      <td>101</td>\n",
       "      <td>golf</td>\n",
       "      <td>150000</td>\n",
       "      <td>0</td>\n",
       "      <td>NaN</td>\n",
       "      <td>volkswagen</td>\n",
       "      <td>NaN</td>\n",
       "      <td>2016-03-17 00:00:00</td>\n",
       "      <td>0</td>\n",
       "      <td>27472</td>\n",
       "      <td>2016-03-31 17:17:06</td>\n",
       "    </tr>\n",
       "  </tbody>\n",
       "</table>\n",
       "</div>"
      ],
      "text/plain": [
       "           DateCrawled  Price  VehicleType  RegistrationYear Gearbox  Power  \\\n",
       "0  2016-03-24 11:52:17    480          NaN              1993  manual      0   \n",
       "1  2016-03-24 10:58:45  18300        coupe              2011  manual    190   \n",
       "2  2016-03-14 12:52:21   9800          suv              2004    auto    163   \n",
       "3  2016-03-17 16:54:04   1500        small              2001  manual     75   \n",
       "4  2016-03-31 17:25:20   3600        small              2008  manual     69   \n",
       "5  2016-04-04 17:36:23    650        sedan              1995  manual    102   \n",
       "6  2016-04-01 20:48:51   2200  convertible              2004  manual    109   \n",
       "7  2016-03-21 18:54:38      0        sedan              1980  manual     50   \n",
       "8  2016-04-04 23:42:13  14500          bus              2014  manual    125   \n",
       "9  2016-03-17 10:53:50    999        small              1998  manual    101   \n",
       "\n",
       "     Model  Kilometer  RegistrationMonth  FuelType       Brand Repaired  \\\n",
       "0     golf     150000                  0    petrol  volkswagen      NaN   \n",
       "1      NaN     125000                  5  gasoline        audi      yes   \n",
       "2    grand     125000                  8  gasoline        jeep      NaN   \n",
       "3     golf     150000                  6    petrol  volkswagen       no   \n",
       "4    fabia      90000                  7  gasoline       skoda       no   \n",
       "5      3er     150000                 10    petrol         bmw      yes   \n",
       "6  2_reihe     150000                  8    petrol     peugeot       no   \n",
       "7    other      40000                  7    petrol  volkswagen       no   \n",
       "8    c_max      30000                  8    petrol        ford      NaN   \n",
       "9     golf     150000                  0       NaN  volkswagen      NaN   \n",
       "\n",
       "           DateCreated  NumberOfPictures  PostalCode             LastSeen  \n",
       "0  2016-03-24 00:00:00                 0       70435  2016-04-07 03:16:57  \n",
       "1  2016-03-24 00:00:00                 0       66954  2016-04-07 01:46:50  \n",
       "2  2016-03-14 00:00:00                 0       90480  2016-04-05 12:47:46  \n",
       "3  2016-03-17 00:00:00                 0       91074  2016-03-17 17:40:17  \n",
       "4  2016-03-31 00:00:00                 0       60437  2016-04-06 10:17:21  \n",
       "5  2016-04-04 00:00:00                 0       33775  2016-04-06 19:17:07  \n",
       "6  2016-04-01 00:00:00                 0       67112  2016-04-05 18:18:39  \n",
       "7  2016-03-21 00:00:00                 0       19348  2016-03-25 16:47:58  \n",
       "8  2016-04-04 00:00:00                 0       94505  2016-04-04 23:42:13  \n",
       "9  2016-03-17 00:00:00                 0       27472  2016-03-31 17:17:06  "
      ]
     },
     "execution_count": 3,
     "metadata": {},
     "output_type": "execute_result"
    }
   ],
   "source": [
    "data.head(10)"
   ]
  },
  {
   "cell_type": "code",
   "execution_count": 4,
   "id": "bc5be9a7",
   "metadata": {
    "execution": {
     "iopub.execute_input": "2023-10-25T22:35:31.340619Z",
     "iopub.status.busy": "2023-10-25T22:35:31.340229Z",
     "iopub.status.idle": "2023-10-25T22:35:31.466858Z",
     "shell.execute_reply": "2023-10-25T22:35:31.465251Z"
    },
    "papermill": {
     "duration": 0.143415,
     "end_time": "2023-10-25T22:35:31.469671",
     "exception": false,
     "start_time": "2023-10-25T22:35:31.326256",
     "status": "completed"
    },
    "tags": []
   },
   "outputs": [
    {
     "name": "stdout",
     "output_type": "stream",
     "text": [
      "<class 'pandas.core.frame.DataFrame'>\n",
      "RangeIndex: 354369 entries, 0 to 354368\n",
      "Data columns (total 16 columns):\n",
      " #   Column             Non-Null Count   Dtype \n",
      "---  ------             --------------   ----- \n",
      " 0   DateCrawled        354369 non-null  object\n",
      " 1   Price              354369 non-null  int64 \n",
      " 2   VehicleType        316879 non-null  object\n",
      " 3   RegistrationYear   354369 non-null  int64 \n",
      " 4   Gearbox            334536 non-null  object\n",
      " 5   Power              354369 non-null  int64 \n",
      " 6   Model              334664 non-null  object\n",
      " 7   Kilometer          354369 non-null  int64 \n",
      " 8   RegistrationMonth  354369 non-null  int64 \n",
      " 9   FuelType           321474 non-null  object\n",
      " 10  Brand              354369 non-null  object\n",
      " 11  Repaired           283215 non-null  object\n",
      " 12  DateCreated        354369 non-null  object\n",
      " 13  NumberOfPictures   354369 non-null  int64 \n",
      " 14  PostalCode         354369 non-null  int64 \n",
      " 15  LastSeen           354369 non-null  object\n",
      "dtypes: int64(7), object(9)\n",
      "memory usage: 43.3+ MB\n"
     ]
    }
   ],
   "source": [
    "data.info()"
   ]
  },
  {
   "cell_type": "code",
   "execution_count": 5,
   "id": "48cd9905",
   "metadata": {
    "execution": {
     "iopub.execute_input": "2023-10-25T22:35:31.498866Z",
     "iopub.status.busy": "2023-10-25T22:35:31.498423Z",
     "iopub.status.idle": "2023-10-25T22:35:32.300335Z",
     "shell.execute_reply": "2023-10-25T22:35:32.298960Z"
    },
    "papermill": {
     "duration": 0.819345,
     "end_time": "2023-10-25T22:35:32.302494",
     "exception": false,
     "start_time": "2023-10-25T22:35:31.483149",
     "status": "completed"
    },
    "tags": []
   },
   "outputs": [
    {
     "data": {
      "text/html": [
       "<div>\n",
       "<style scoped>\n",
       "    .dataframe tbody tr th:only-of-type {\n",
       "        vertical-align: middle;\n",
       "    }\n",
       "\n",
       "    .dataframe tbody tr th {\n",
       "        vertical-align: top;\n",
       "    }\n",
       "\n",
       "    .dataframe thead th {\n",
       "        text-align: right;\n",
       "    }\n",
       "</style>\n",
       "<table border=\"1\" class=\"dataframe\">\n",
       "  <thead>\n",
       "    <tr style=\"text-align: right;\">\n",
       "      <th></th>\n",
       "      <th>count</th>\n",
       "      <th>unique</th>\n",
       "      <th>top</th>\n",
       "      <th>freq</th>\n",
       "      <th>mean</th>\n",
       "      <th>std</th>\n",
       "      <th>min</th>\n",
       "      <th>25%</th>\n",
       "      <th>50%</th>\n",
       "      <th>75%</th>\n",
       "      <th>max</th>\n",
       "    </tr>\n",
       "  </thead>\n",
       "  <tbody>\n",
       "    <tr>\n",
       "      <th>DateCrawled</th>\n",
       "      <td>354369</td>\n",
       "      <td>271174</td>\n",
       "      <td>2016-03-24 14:49:47</td>\n",
       "      <td>7</td>\n",
       "      <td>NaN</td>\n",
       "      <td>NaN</td>\n",
       "      <td>NaN</td>\n",
       "      <td>NaN</td>\n",
       "      <td>NaN</td>\n",
       "      <td>NaN</td>\n",
       "      <td>NaN</td>\n",
       "    </tr>\n",
       "    <tr>\n",
       "      <th>Price</th>\n",
       "      <td>354369.0</td>\n",
       "      <td>NaN</td>\n",
       "      <td>NaN</td>\n",
       "      <td>NaN</td>\n",
       "      <td>4416.656776</td>\n",
       "      <td>4514.158514</td>\n",
       "      <td>0.0</td>\n",
       "      <td>1050.0</td>\n",
       "      <td>2700.0</td>\n",
       "      <td>6400.0</td>\n",
       "      <td>20000.0</td>\n",
       "    </tr>\n",
       "    <tr>\n",
       "      <th>VehicleType</th>\n",
       "      <td>316879</td>\n",
       "      <td>8</td>\n",
       "      <td>sedan</td>\n",
       "      <td>91457</td>\n",
       "      <td>NaN</td>\n",
       "      <td>NaN</td>\n",
       "      <td>NaN</td>\n",
       "      <td>NaN</td>\n",
       "      <td>NaN</td>\n",
       "      <td>NaN</td>\n",
       "      <td>NaN</td>\n",
       "    </tr>\n",
       "    <tr>\n",
       "      <th>RegistrationYear</th>\n",
       "      <td>354369.0</td>\n",
       "      <td>NaN</td>\n",
       "      <td>NaN</td>\n",
       "      <td>NaN</td>\n",
       "      <td>2004.234448</td>\n",
       "      <td>90.227958</td>\n",
       "      <td>1000.0</td>\n",
       "      <td>1999.0</td>\n",
       "      <td>2003.0</td>\n",
       "      <td>2008.0</td>\n",
       "      <td>9999.0</td>\n",
       "    </tr>\n",
       "    <tr>\n",
       "      <th>Gearbox</th>\n",
       "      <td>334536</td>\n",
       "      <td>2</td>\n",
       "      <td>manual</td>\n",
       "      <td>268251</td>\n",
       "      <td>NaN</td>\n",
       "      <td>NaN</td>\n",
       "      <td>NaN</td>\n",
       "      <td>NaN</td>\n",
       "      <td>NaN</td>\n",
       "      <td>NaN</td>\n",
       "      <td>NaN</td>\n",
       "    </tr>\n",
       "    <tr>\n",
       "      <th>Power</th>\n",
       "      <td>354369.0</td>\n",
       "      <td>NaN</td>\n",
       "      <td>NaN</td>\n",
       "      <td>NaN</td>\n",
       "      <td>110.094337</td>\n",
       "      <td>189.850405</td>\n",
       "      <td>0.0</td>\n",
       "      <td>69.0</td>\n",
       "      <td>105.0</td>\n",
       "      <td>143.0</td>\n",
       "      <td>20000.0</td>\n",
       "    </tr>\n",
       "    <tr>\n",
       "      <th>Model</th>\n",
       "      <td>334664</td>\n",
       "      <td>250</td>\n",
       "      <td>golf</td>\n",
       "      <td>29232</td>\n",
       "      <td>NaN</td>\n",
       "      <td>NaN</td>\n",
       "      <td>NaN</td>\n",
       "      <td>NaN</td>\n",
       "      <td>NaN</td>\n",
       "      <td>NaN</td>\n",
       "      <td>NaN</td>\n",
       "    </tr>\n",
       "    <tr>\n",
       "      <th>Kilometer</th>\n",
       "      <td>354369.0</td>\n",
       "      <td>NaN</td>\n",
       "      <td>NaN</td>\n",
       "      <td>NaN</td>\n",
       "      <td>128211.172535</td>\n",
       "      <td>37905.34153</td>\n",
       "      <td>5000.0</td>\n",
       "      <td>125000.0</td>\n",
       "      <td>150000.0</td>\n",
       "      <td>150000.0</td>\n",
       "      <td>150000.0</td>\n",
       "    </tr>\n",
       "    <tr>\n",
       "      <th>RegistrationMonth</th>\n",
       "      <td>354369.0</td>\n",
       "      <td>NaN</td>\n",
       "      <td>NaN</td>\n",
       "      <td>NaN</td>\n",
       "      <td>5.714645</td>\n",
       "      <td>3.726421</td>\n",
       "      <td>0.0</td>\n",
       "      <td>3.0</td>\n",
       "      <td>6.0</td>\n",
       "      <td>9.0</td>\n",
       "      <td>12.0</td>\n",
       "    </tr>\n",
       "    <tr>\n",
       "      <th>FuelType</th>\n",
       "      <td>321474</td>\n",
       "      <td>7</td>\n",
       "      <td>petrol</td>\n",
       "      <td>216352</td>\n",
       "      <td>NaN</td>\n",
       "      <td>NaN</td>\n",
       "      <td>NaN</td>\n",
       "      <td>NaN</td>\n",
       "      <td>NaN</td>\n",
       "      <td>NaN</td>\n",
       "      <td>NaN</td>\n",
       "    </tr>\n",
       "    <tr>\n",
       "      <th>Brand</th>\n",
       "      <td>354369</td>\n",
       "      <td>40</td>\n",
       "      <td>volkswagen</td>\n",
       "      <td>77013</td>\n",
       "      <td>NaN</td>\n",
       "      <td>NaN</td>\n",
       "      <td>NaN</td>\n",
       "      <td>NaN</td>\n",
       "      <td>NaN</td>\n",
       "      <td>NaN</td>\n",
       "      <td>NaN</td>\n",
       "    </tr>\n",
       "    <tr>\n",
       "      <th>Repaired</th>\n",
       "      <td>283215</td>\n",
       "      <td>2</td>\n",
       "      <td>no</td>\n",
       "      <td>247161</td>\n",
       "      <td>NaN</td>\n",
       "      <td>NaN</td>\n",
       "      <td>NaN</td>\n",
       "      <td>NaN</td>\n",
       "      <td>NaN</td>\n",
       "      <td>NaN</td>\n",
       "      <td>NaN</td>\n",
       "    </tr>\n",
       "    <tr>\n",
       "      <th>DateCreated</th>\n",
       "      <td>354369</td>\n",
       "      <td>109</td>\n",
       "      <td>2016-04-03 00:00:00</td>\n",
       "      <td>13719</td>\n",
       "      <td>NaN</td>\n",
       "      <td>NaN</td>\n",
       "      <td>NaN</td>\n",
       "      <td>NaN</td>\n",
       "      <td>NaN</td>\n",
       "      <td>NaN</td>\n",
       "      <td>NaN</td>\n",
       "    </tr>\n",
       "    <tr>\n",
       "      <th>NumberOfPictures</th>\n",
       "      <td>354369.0</td>\n",
       "      <td>NaN</td>\n",
       "      <td>NaN</td>\n",
       "      <td>NaN</td>\n",
       "      <td>0.0</td>\n",
       "      <td>0.0</td>\n",
       "      <td>0.0</td>\n",
       "      <td>0.0</td>\n",
       "      <td>0.0</td>\n",
       "      <td>0.0</td>\n",
       "      <td>0.0</td>\n",
       "    </tr>\n",
       "    <tr>\n",
       "      <th>PostalCode</th>\n",
       "      <td>354369.0</td>\n",
       "      <td>NaN</td>\n",
       "      <td>NaN</td>\n",
       "      <td>NaN</td>\n",
       "      <td>50508.689087</td>\n",
       "      <td>25783.096248</td>\n",
       "      <td>1067.0</td>\n",
       "      <td>30165.0</td>\n",
       "      <td>49413.0</td>\n",
       "      <td>71083.0</td>\n",
       "      <td>99998.0</td>\n",
       "    </tr>\n",
       "    <tr>\n",
       "      <th>LastSeen</th>\n",
       "      <td>354369</td>\n",
       "      <td>179150</td>\n",
       "      <td>2016-04-06 13:45:54</td>\n",
       "      <td>17</td>\n",
       "      <td>NaN</td>\n",
       "      <td>NaN</td>\n",
       "      <td>NaN</td>\n",
       "      <td>NaN</td>\n",
       "      <td>NaN</td>\n",
       "      <td>NaN</td>\n",
       "      <td>NaN</td>\n",
       "    </tr>\n",
       "  </tbody>\n",
       "</table>\n",
       "</div>"
      ],
      "text/plain": [
       "                      count  unique                  top    freq  \\\n",
       "DateCrawled          354369  271174  2016-03-24 14:49:47       7   \n",
       "Price              354369.0     NaN                  NaN     NaN   \n",
       "VehicleType          316879       8                sedan   91457   \n",
       "RegistrationYear   354369.0     NaN                  NaN     NaN   \n",
       "Gearbox              334536       2               manual  268251   \n",
       "Power              354369.0     NaN                  NaN     NaN   \n",
       "Model                334664     250                 golf   29232   \n",
       "Kilometer          354369.0     NaN                  NaN     NaN   \n",
       "RegistrationMonth  354369.0     NaN                  NaN     NaN   \n",
       "FuelType             321474       7               petrol  216352   \n",
       "Brand                354369      40           volkswagen   77013   \n",
       "Repaired             283215       2                   no  247161   \n",
       "DateCreated          354369     109  2016-04-03 00:00:00   13719   \n",
       "NumberOfPictures   354369.0     NaN                  NaN     NaN   \n",
       "PostalCode         354369.0     NaN                  NaN     NaN   \n",
       "LastSeen             354369  179150  2016-04-06 13:45:54      17   \n",
       "\n",
       "                            mean           std     min       25%       50%  \\\n",
       "DateCrawled                  NaN           NaN     NaN       NaN       NaN   \n",
       "Price                4416.656776   4514.158514     0.0    1050.0    2700.0   \n",
       "VehicleType                  NaN           NaN     NaN       NaN       NaN   \n",
       "RegistrationYear     2004.234448     90.227958  1000.0    1999.0    2003.0   \n",
       "Gearbox                      NaN           NaN     NaN       NaN       NaN   \n",
       "Power                 110.094337    189.850405     0.0      69.0     105.0   \n",
       "Model                        NaN           NaN     NaN       NaN       NaN   \n",
       "Kilometer          128211.172535   37905.34153  5000.0  125000.0  150000.0   \n",
       "RegistrationMonth       5.714645      3.726421     0.0       3.0       6.0   \n",
       "FuelType                     NaN           NaN     NaN       NaN       NaN   \n",
       "Brand                        NaN           NaN     NaN       NaN       NaN   \n",
       "Repaired                     NaN           NaN     NaN       NaN       NaN   \n",
       "DateCreated                  NaN           NaN     NaN       NaN       NaN   \n",
       "NumberOfPictures             0.0           0.0     0.0       0.0       0.0   \n",
       "PostalCode          50508.689087  25783.096248  1067.0   30165.0   49413.0   \n",
       "LastSeen                     NaN           NaN     NaN       NaN       NaN   \n",
       "\n",
       "                        75%       max  \n",
       "DateCrawled             NaN       NaN  \n",
       "Price                6400.0   20000.0  \n",
       "VehicleType             NaN       NaN  \n",
       "RegistrationYear     2008.0    9999.0  \n",
       "Gearbox                 NaN       NaN  \n",
       "Power                 143.0   20000.0  \n",
       "Model                   NaN       NaN  \n",
       "Kilometer          150000.0  150000.0  \n",
       "RegistrationMonth       9.0      12.0  \n",
       "FuelType                NaN       NaN  \n",
       "Brand                   NaN       NaN  \n",
       "Repaired                NaN       NaN  \n",
       "DateCreated             NaN       NaN  \n",
       "NumberOfPictures        0.0       0.0  \n",
       "PostalCode          71083.0   99998.0  \n",
       "LastSeen                NaN       NaN  "
      ]
     },
     "execution_count": 5,
     "metadata": {},
     "output_type": "execute_result"
    }
   ],
   "source": [
    "data.describe(include='all').T"
   ]
  },
  {
   "cell_type": "code",
   "execution_count": 6,
   "id": "11117894",
   "metadata": {
    "execution": {
     "iopub.execute_input": "2023-10-25T22:35:32.332309Z",
     "iopub.status.busy": "2023-10-25T22:35:32.331990Z",
     "iopub.status.idle": "2023-10-25T22:35:32.434483Z",
     "shell.execute_reply": "2023-10-25T22:35:32.433270Z"
    },
    "papermill": {
     "duration": 0.119982,
     "end_time": "2023-10-25T22:35:32.436885",
     "exception": false,
     "start_time": "2023-10-25T22:35:32.316903",
     "status": "completed"
    },
    "tags": []
   },
   "outputs": [
    {
     "data": {
      "text/plain": [
       "DateCrawled              0\n",
       "Price                    0\n",
       "VehicleType          37490\n",
       "RegistrationYear         0\n",
       "Gearbox              19833\n",
       "Power                    0\n",
       "Model                19705\n",
       "Kilometer                0\n",
       "RegistrationMonth        0\n",
       "FuelType             32895\n",
       "Brand                    0\n",
       "Repaired             71154\n",
       "DateCreated              0\n",
       "NumberOfPictures         0\n",
       "PostalCode               0\n",
       "LastSeen                 0\n",
       "dtype: int64"
      ]
     },
     "execution_count": 6,
     "metadata": {},
     "output_type": "execute_result"
    }
   ],
   "source": [
    "#missing data\n",
    "data.isnull().sum()"
   ]
  },
  {
   "cell_type": "code",
   "execution_count": 7,
   "id": "3b34691a",
   "metadata": {
    "execution": {
     "iopub.execute_input": "2023-10-25T22:35:32.467177Z",
     "iopub.status.busy": "2023-10-25T22:35:32.466854Z",
     "iopub.status.idle": "2023-10-25T22:35:32.571392Z",
     "shell.execute_reply": "2023-10-25T22:35:32.570089Z"
    },
    "papermill": {
     "duration": 0.122668,
     "end_time": "2023-10-25T22:35:32.573541",
     "exception": false,
     "start_time": "2023-10-25T22:35:32.450873",
     "status": "completed"
    },
    "tags": []
   },
   "outputs": [
    {
     "data": {
      "text/plain": [
       "DateCrawled           0.000000\n",
       "Price                 0.000000\n",
       "VehicleType          10.579368\n",
       "RegistrationYear      0.000000\n",
       "Gearbox               5.596709\n",
       "Power                 0.000000\n",
       "Model                 5.560588\n",
       "Kilometer             0.000000\n",
       "RegistrationMonth     0.000000\n",
       "FuelType              9.282697\n",
       "Brand                 0.000000\n",
       "Repaired             20.079070\n",
       "DateCreated           0.000000\n",
       "NumberOfPictures      0.000000\n",
       "PostalCode            0.000000\n",
       "LastSeen              0.000000\n",
       "dtype: float64"
      ]
     },
     "execution_count": 7,
     "metadata": {},
     "output_type": "execute_result"
    }
   ],
   "source": [
    "#percentage of missing data\n",
    "data.isnull().sum() / len(data) * 100"
   ]
  },
  {
   "cell_type": "code",
   "execution_count": 8,
   "id": "2fcf5cd7",
   "metadata": {
    "execution": {
     "iopub.execute_input": "2023-10-25T22:35:32.603592Z",
     "iopub.status.busy": "2023-10-25T22:35:32.603217Z",
     "iopub.status.idle": "2023-10-25T22:35:32.628113Z",
     "shell.execute_reply": "2023-10-25T22:35:32.627208Z"
    },
    "papermill": {
     "duration": 0.042111,
     "end_time": "2023-10-25T22:35:32.630024",
     "exception": false,
     "start_time": "2023-10-25T22:35:32.587913",
     "status": "completed"
    },
    "tags": []
   },
   "outputs": [
    {
     "data": {
      "text/plain": [
       "VehicleType\n",
       "sedan          91457\n",
       "small          79831\n",
       "wagon          65166\n",
       "bus            28775\n",
       "convertible    20203\n",
       "coupe          16163\n",
       "suv            11996\n",
       "other           3288\n",
       "Name: count, dtype: int64"
      ]
     },
     "execution_count": 8,
     "metadata": {},
     "output_type": "execute_result"
    }
   ],
   "source": [
    "data['VehicleType'].value_counts() "
   ]
  },
  {
   "cell_type": "code",
   "execution_count": 9,
   "id": "717985c8",
   "metadata": {
    "execution": {
     "iopub.execute_input": "2023-10-25T22:35:32.660135Z",
     "iopub.status.busy": "2023-10-25T22:35:32.659803Z",
     "iopub.status.idle": "2023-10-25T22:35:32.683414Z",
     "shell.execute_reply": "2023-10-25T22:35:32.682581Z"
    },
    "papermill": {
     "duration": 0.041417,
     "end_time": "2023-10-25T22:35:32.685701",
     "exception": false,
     "start_time": "2023-10-25T22:35:32.644284",
     "status": "completed"
    },
    "tags": []
   },
   "outputs": [
    {
     "data": {
      "text/plain": [
       "Gearbox\n",
       "manual    268251\n",
       "auto       66285\n",
       "Name: count, dtype: int64"
      ]
     },
     "execution_count": 9,
     "metadata": {},
     "output_type": "execute_result"
    }
   ],
   "source": [
    "data['Gearbox'].value_counts()"
   ]
  },
  {
   "cell_type": "code",
   "execution_count": 10,
   "id": "93856eca",
   "metadata": {
    "execution": {
     "iopub.execute_input": "2023-10-25T22:35:32.774386Z",
     "iopub.status.busy": "2023-10-25T22:35:32.773405Z",
     "iopub.status.idle": "2023-10-25T22:35:32.800814Z",
     "shell.execute_reply": "2023-10-25T22:35:32.799827Z"
    },
    "papermill": {
     "duration": 0.045702,
     "end_time": "2023-10-25T22:35:32.803141",
     "exception": false,
     "start_time": "2023-10-25T22:35:32.757439",
     "status": "completed"
    },
    "tags": []
   },
   "outputs": [
    {
     "data": {
      "text/plain": [
       "Model\n",
       "golf                  29232\n",
       "other                 24421\n",
       "3er                   19761\n",
       "polo                  13066\n",
       "corsa                 12570\n",
       "                      ...  \n",
       "i3                        8\n",
       "serie_3                   4\n",
       "rangerover                4\n",
       "range_rover_evoque        2\n",
       "serie_1                   2\n",
       "Name: count, Length: 250, dtype: int64"
      ]
     },
     "execution_count": 10,
     "metadata": {},
     "output_type": "execute_result"
    }
   ],
   "source": [
    "data['Model'].value_counts()"
   ]
  },
  {
   "cell_type": "code",
   "execution_count": 11,
   "id": "8aaf045b",
   "metadata": {
    "execution": {
     "iopub.execute_input": "2023-10-25T22:35:32.834906Z",
     "iopub.status.busy": "2023-10-25T22:35:32.834559Z",
     "iopub.status.idle": "2023-10-25T22:35:32.860692Z",
     "shell.execute_reply": "2023-10-25T22:35:32.859855Z"
    },
    "papermill": {
     "duration": 0.044226,
     "end_time": "2023-10-25T22:35:32.862487",
     "exception": false,
     "start_time": "2023-10-25T22:35:32.818261",
     "status": "completed"
    },
    "tags": []
   },
   "outputs": [
    {
     "data": {
      "text/plain": [
       "FuelType\n",
       "petrol      216352\n",
       "gasoline     98720\n",
       "lpg           5310\n",
       "cng            565\n",
       "hybrid         233\n",
       "other          204\n",
       "electric        90\n",
       "Name: count, dtype: int64"
      ]
     },
     "execution_count": 11,
     "metadata": {},
     "output_type": "execute_result"
    }
   ],
   "source": [
    "data['FuelType'].value_counts()"
   ]
  },
  {
   "cell_type": "code",
   "execution_count": 12,
   "id": "33fadbd4",
   "metadata": {
    "execution": {
     "iopub.execute_input": "2023-10-25T22:35:32.894623Z",
     "iopub.status.busy": "2023-10-25T22:35:32.893916Z",
     "iopub.status.idle": "2023-10-25T22:35:32.918267Z",
     "shell.execute_reply": "2023-10-25T22:35:32.916766Z"
    },
    "papermill": {
     "duration": 0.043626,
     "end_time": "2023-10-25T22:35:32.920701",
     "exception": false,
     "start_time": "2023-10-25T22:35:32.877075",
     "status": "completed"
    },
    "tags": []
   },
   "outputs": [
    {
     "data": {
      "text/plain": [
       "Repaired\n",
       "no     247161\n",
       "yes     36054\n",
       "Name: count, dtype: int64"
      ]
     },
     "execution_count": 12,
     "metadata": {},
     "output_type": "execute_result"
    }
   ],
   "source": [
    "data['Repaired'].value_counts()"
   ]
  },
  {
   "cell_type": "code",
   "execution_count": 13,
   "id": "af466fd0",
   "metadata": {
    "execution": {
     "iopub.execute_input": "2023-10-25T22:35:32.953118Z",
     "iopub.status.busy": "2023-10-25T22:35:32.952737Z",
     "iopub.status.idle": "2023-10-25T22:35:33.056255Z",
     "shell.execute_reply": "2023-10-25T22:35:33.054655Z"
    },
    "papermill": {
     "duration": 0.1225,
     "end_time": "2023-10-25T22:35:33.058906",
     "exception": false,
     "start_time": "2023-10-25T22:35:32.936406",
     "status": "completed"
    },
    "tags": []
   },
   "outputs": [],
   "source": [
    "#we fill in the missing values (around 11%) in the 'vehicle type' column, around 9 % in the 'fuel type' column and around 6 % in the 'gearbox' one \n",
    "#with the most popular ones in the columns\n",
    "\n",
    "data['VehicleType'] = data['VehicleType'].fillna('sedan')\n",
    "data['Gearbox'] = data['Gearbox'].fillna('manual')\n",
    "data['FuelType'] = data['FuelType'].fillna('petrol')\n",
    "\n",
    "#instead of nan (around 6%) in the 'model' column let's leave blanks\n",
    "#instead of nan (around 20%) in the 'repaired' column let's leave blanks\n",
    "data['Model'] = data['Model'].fillna('')\n",
    "data['Repaired'] = data['Repaired'].fillna('')"
   ]
  },
  {
   "cell_type": "code",
   "execution_count": 14,
   "id": "653fec6c",
   "metadata": {
    "execution": {
     "iopub.execute_input": "2023-10-25T22:35:33.102575Z",
     "iopub.status.busy": "2023-10-25T22:35:33.101411Z",
     "iopub.status.idle": "2023-10-25T22:35:33.210509Z",
     "shell.execute_reply": "2023-10-25T22:35:33.209533Z"
    },
    "papermill": {
     "duration": 0.132434,
     "end_time": "2023-10-25T22:35:33.212429",
     "exception": false,
     "start_time": "2023-10-25T22:35:33.079995",
     "status": "completed"
    },
    "tags": []
   },
   "outputs": [
    {
     "data": {
      "text/plain": [
       "DateCrawled          0\n",
       "Price                0\n",
       "VehicleType          0\n",
       "RegistrationYear     0\n",
       "Gearbox              0\n",
       "Power                0\n",
       "Model                0\n",
       "Kilometer            0\n",
       "RegistrationMonth    0\n",
       "FuelType             0\n",
       "Brand                0\n",
       "Repaired             0\n",
       "DateCreated          0\n",
       "NumberOfPictures     0\n",
       "PostalCode           0\n",
       "LastSeen             0\n",
       "dtype: int64"
      ]
     },
     "execution_count": 14,
     "metadata": {},
     "output_type": "execute_result"
    }
   ],
   "source": [
    "data.isnull().sum()"
   ]
  },
  {
   "cell_type": "code",
   "execution_count": 15,
   "id": "da7132fd",
   "metadata": {
    "execution": {
     "iopub.execute_input": "2023-10-25T22:35:33.244697Z",
     "iopub.status.busy": "2023-10-25T22:35:33.244312Z",
     "iopub.status.idle": "2023-10-25T22:35:33.675621Z",
     "shell.execute_reply": "2023-10-25T22:35:33.673959Z"
    },
    "papermill": {
     "duration": 0.450859,
     "end_time": "2023-10-25T22:35:33.678754",
     "exception": false,
     "start_time": "2023-10-25T22:35:33.227895",
     "status": "completed"
    },
    "tags": []
   },
   "outputs": [
    {
     "data": {
      "text/plain": [
       "4"
      ]
     },
     "execution_count": 15,
     "metadata": {},
     "output_type": "execute_result"
    }
   ],
   "source": [
    "#let's check out the duplicates\n",
    "data.duplicated().sum()"
   ]
  },
  {
   "cell_type": "code",
   "execution_count": 16,
   "id": "33a564d1",
   "metadata": {
    "execution": {
     "iopub.execute_input": "2023-10-25T22:35:33.711092Z",
     "iopub.status.busy": "2023-10-25T22:35:33.710717Z",
     "iopub.status.idle": "2023-10-25T22:35:34.186554Z",
     "shell.execute_reply": "2023-10-25T22:35:34.184871Z"
    },
    "papermill": {
     "duration": 0.495047,
     "end_time": "2023-10-25T22:35:34.189137",
     "exception": false,
     "start_time": "2023-10-25T22:35:33.694090",
     "status": "completed"
    },
    "tags": []
   },
   "outputs": [],
   "source": [
    "data = data.drop_duplicates()"
   ]
  },
  {
   "cell_type": "code",
   "execution_count": 17,
   "id": "fedf06b0",
   "metadata": {
    "execution": {
     "iopub.execute_input": "2023-10-25T22:35:34.222740Z",
     "iopub.status.busy": "2023-10-25T22:35:34.222376Z",
     "iopub.status.idle": "2023-10-25T22:35:34.637200Z",
     "shell.execute_reply": "2023-10-25T22:35:34.635975Z"
    },
    "papermill": {
     "duration": 0.434025,
     "end_time": "2023-10-25T22:35:34.639777",
     "exception": false,
     "start_time": "2023-10-25T22:35:34.205752",
     "status": "completed"
    },
    "tags": []
   },
   "outputs": [
    {
     "data": {
      "text/plain": [
       "0"
      ]
     },
     "execution_count": 17,
     "metadata": {},
     "output_type": "execute_result"
    }
   ],
   "source": [
    "data.duplicated().sum()"
   ]
  },
  {
   "cell_type": "markdown",
   "id": "5b6c4d6f",
   "metadata": {
    "papermill": {
     "duration": 0.016944,
     "end_time": "2023-10-25T22:35:34.672577",
     "exception": false,
     "start_time": "2023-10-25T22:35:34.655633",
     "status": "completed"
    },
    "tags": []
   },
   "source": [
    "Let's remove the date factors, they do not contain business information, we do not need them to build models. \n",
    "\n",
    "Let's also remove the column with the number of photos. It has only 0 for each line, it will not give us any useful information, just like the column with the postal codes of customers."
   ]
  },
  {
   "cell_type": "code",
   "execution_count": 18,
   "id": "8e4f24ae",
   "metadata": {
    "execution": {
     "iopub.execute_input": "2023-10-25T22:35:34.706651Z",
     "iopub.status.busy": "2023-10-25T22:35:34.706311Z",
     "iopub.status.idle": "2023-10-25T22:35:34.721132Z",
     "shell.execute_reply": "2023-10-25T22:35:34.719521Z"
    },
    "papermill": {
     "duration": 0.035396,
     "end_time": "2023-10-25T22:35:34.724007",
     "exception": false,
     "start_time": "2023-10-25T22:35:34.688611",
     "status": "completed"
    },
    "tags": []
   },
   "outputs": [],
   "source": [
    "del data['DateCrawled']\n",
    "del data['RegistrationYear']\n",
    "del data['RegistrationMonth']\n",
    "del data['DateCreated']\n",
    "del data['LastSeen']\n",
    "del data['NumberOfPictures']\n",
    "del data['PostalCode']"
   ]
  },
  {
   "cell_type": "code",
   "execution_count": 19,
   "id": "5eab16a0",
   "metadata": {
    "execution": {
     "iopub.execute_input": "2023-10-25T22:35:34.758118Z",
     "iopub.status.busy": "2023-10-25T22:35:34.757732Z",
     "iopub.status.idle": "2023-10-25T22:35:34.778621Z",
     "shell.execute_reply": "2023-10-25T22:35:34.777043Z"
    },
    "papermill": {
     "duration": 0.040717,
     "end_time": "2023-10-25T22:35:34.781578",
     "exception": false,
     "start_time": "2023-10-25T22:35:34.740861",
     "status": "completed"
    },
    "tags": []
   },
   "outputs": [
    {
     "data": {
      "text/plain": [
       "10772"
      ]
     },
     "execution_count": 19,
     "metadata": {},
     "output_type": "execute_result"
    }
   ],
   "source": [
    "#we can check if there is any non-informative data of the target feature that less than or equal to zero\n",
    "\n",
    "len(data.query('Price <= 0'))"
   ]
  },
  {
   "cell_type": "code",
   "execution_count": 20,
   "id": "ee44eba0",
   "metadata": {
    "execution": {
     "iopub.execute_input": "2023-10-25T22:35:34.814511Z",
     "iopub.status.busy": "2023-10-25T22:35:34.814203Z",
     "iopub.status.idle": "2023-10-25T22:35:34.863728Z",
     "shell.execute_reply": "2023-10-25T22:35:34.862499Z"
    },
    "papermill": {
     "duration": 0.068734,
     "end_time": "2023-10-25T22:35:34.866097",
     "exception": false,
     "start_time": "2023-10-25T22:35:34.797363",
     "status": "completed"
    },
    "tags": []
   },
   "outputs": [],
   "source": [
    "#let's leave only cars with the price more than 0\n",
    "\n",
    "data = data.query('Price > 0')"
   ]
  },
  {
   "cell_type": "code",
   "execution_count": 21,
   "id": "cf8ce70d",
   "metadata": {
    "execution": {
     "iopub.execute_input": "2023-10-25T22:35:34.900230Z",
     "iopub.status.busy": "2023-10-25T22:35:34.899900Z",
     "iopub.status.idle": "2023-10-25T22:35:34.914333Z",
     "shell.execute_reply": "2023-10-25T22:35:34.913251Z"
    },
    "papermill": {
     "duration": 0.03479,
     "end_time": "2023-10-25T22:35:34.917095",
     "exception": false,
     "start_time": "2023-10-25T22:35:34.882305",
     "status": "completed"
    },
    "scrolled": true,
    "tags": []
   },
   "outputs": [
    {
     "data": {
      "text/html": [
       "<div>\n",
       "<style scoped>\n",
       "    .dataframe tbody tr th:only-of-type {\n",
       "        vertical-align: middle;\n",
       "    }\n",
       "\n",
       "    .dataframe tbody tr th {\n",
       "        vertical-align: top;\n",
       "    }\n",
       "\n",
       "    .dataframe thead th {\n",
       "        text-align: right;\n",
       "    }\n",
       "</style>\n",
       "<table border=\"1\" class=\"dataframe\">\n",
       "  <thead>\n",
       "    <tr style=\"text-align: right;\">\n",
       "      <th></th>\n",
       "      <th>Price</th>\n",
       "      <th>VehicleType</th>\n",
       "      <th>Gearbox</th>\n",
       "      <th>Power</th>\n",
       "      <th>Model</th>\n",
       "      <th>Kilometer</th>\n",
       "      <th>FuelType</th>\n",
       "      <th>Brand</th>\n",
       "      <th>Repaired</th>\n",
       "    </tr>\n",
       "  </thead>\n",
       "  <tbody>\n",
       "    <tr>\n",
       "      <th>0</th>\n",
       "      <td>480</td>\n",
       "      <td>sedan</td>\n",
       "      <td>manual</td>\n",
       "      <td>0</td>\n",
       "      <td>golf</td>\n",
       "      <td>150000</td>\n",
       "      <td>petrol</td>\n",
       "      <td>volkswagen</td>\n",
       "      <td></td>\n",
       "    </tr>\n",
       "    <tr>\n",
       "      <th>1</th>\n",
       "      <td>18300</td>\n",
       "      <td>coupe</td>\n",
       "      <td>manual</td>\n",
       "      <td>190</td>\n",
       "      <td></td>\n",
       "      <td>125000</td>\n",
       "      <td>gasoline</td>\n",
       "      <td>audi</td>\n",
       "      <td>yes</td>\n",
       "    </tr>\n",
       "    <tr>\n",
       "      <th>2</th>\n",
       "      <td>9800</td>\n",
       "      <td>suv</td>\n",
       "      <td>auto</td>\n",
       "      <td>163</td>\n",
       "      <td>grand</td>\n",
       "      <td>125000</td>\n",
       "      <td>gasoline</td>\n",
       "      <td>jeep</td>\n",
       "      <td></td>\n",
       "    </tr>\n",
       "    <tr>\n",
       "      <th>3</th>\n",
       "      <td>1500</td>\n",
       "      <td>small</td>\n",
       "      <td>manual</td>\n",
       "      <td>75</td>\n",
       "      <td>golf</td>\n",
       "      <td>150000</td>\n",
       "      <td>petrol</td>\n",
       "      <td>volkswagen</td>\n",
       "      <td>no</td>\n",
       "    </tr>\n",
       "    <tr>\n",
       "      <th>4</th>\n",
       "      <td>3600</td>\n",
       "      <td>small</td>\n",
       "      <td>manual</td>\n",
       "      <td>69</td>\n",
       "      <td>fabia</td>\n",
       "      <td>90000</td>\n",
       "      <td>gasoline</td>\n",
       "      <td>skoda</td>\n",
       "      <td>no</td>\n",
       "    </tr>\n",
       "  </tbody>\n",
       "</table>\n",
       "</div>"
      ],
      "text/plain": [
       "   Price VehicleType Gearbox  Power  Model  Kilometer  FuelType       Brand  \\\n",
       "0    480       sedan  manual      0   golf     150000    petrol  volkswagen   \n",
       "1  18300       coupe  manual    190            125000  gasoline        audi   \n",
       "2   9800         suv    auto    163  grand     125000  gasoline        jeep   \n",
       "3   1500       small  manual     75   golf     150000    petrol  volkswagen   \n",
       "4   3600       small  manual     69  fabia      90000  gasoline       skoda   \n",
       "\n",
       "  Repaired  \n",
       "0           \n",
       "1      yes  \n",
       "2           \n",
       "3       no  \n",
       "4       no  "
      ]
     },
     "execution_count": 21,
     "metadata": {},
     "output_type": "execute_result"
    }
   ],
   "source": [
    "data.head()"
   ]
  },
  {
   "cell_type": "code",
   "execution_count": 22,
   "id": "ed8593e7",
   "metadata": {
    "execution": {
     "iopub.execute_input": "2023-10-25T22:35:34.951568Z",
     "iopub.status.busy": "2023-10-25T22:35:34.951238Z",
     "iopub.status.idle": "2023-10-25T22:35:35.026475Z",
     "shell.execute_reply": "2023-10-25T22:35:35.024606Z"
    },
    "papermill": {
     "duration": 0.095083,
     "end_time": "2023-10-25T22:35:35.028840",
     "exception": false,
     "start_time": "2023-10-25T22:35:34.933757",
     "status": "completed"
    },
    "tags": []
   },
   "outputs": [
    {
     "name": "stdout",
     "output_type": "stream",
     "text": [
      "<class 'pandas.core.frame.DataFrame'>\n",
      "Index: 343593 entries, 0 to 354368\n",
      "Data columns (total 9 columns):\n",
      " #   Column       Non-Null Count   Dtype \n",
      "---  ------       --------------   ----- \n",
      " 0   Price        343593 non-null  int64 \n",
      " 1   VehicleType  343593 non-null  object\n",
      " 2   Gearbox      343593 non-null  object\n",
      " 3   Power        343593 non-null  int64 \n",
      " 4   Model        343593 non-null  object\n",
      " 5   Kilometer    343593 non-null  int64 \n",
      " 6   FuelType     343593 non-null  object\n",
      " 7   Brand        343593 non-null  object\n",
      " 8   Repaired     343593 non-null  object\n",
      "dtypes: int64(3), object(6)\n",
      "memory usage: 26.2+ MB\n"
     ]
    }
   ],
   "source": [
    "data.info()"
   ]
  },
  {
   "cell_type": "markdown",
   "id": "9c5ed856",
   "metadata": {
    "papermill": {
     "duration": 0.016078,
     "end_time": "2023-10-25T22:35:35.063335",
     "exception": false,
     "start_time": "2023-10-25T22:35:35.047257",
     "status": "completed"
    },
    "tags": []
   },
   "source": [
    "So, in the original dataframe there are 354369 rows, 16 columns, of which 7 columns with the numeric data type int64, 9 columns with the text data type object, 4 duplicates were found and removed, about 10,000 cars were with an uninformative price equal to 0, we filtered out such cars, as well as removed non-informative columns with dates that do not affect the business result, and columns with the number of photos and postal codes of customers. We found a fairly large number of missing values in categorical variables, some of which were left as blanks instead of the nan value itself, and some were replaced with the most popular values for a specific column. The final dataframe has 343593 rows and 9 columns with information about cars: 3 numeric features (price, power, kilometer) and 6 text features (vehicle type, gearbox type, car model, fuel type, car brand, was the car under repair or not)). "
   ]
  },
  {
   "cell_type": "markdown",
   "id": "3e93a148",
   "metadata": {
    "papermill": {
     "duration": 0.015941,
     "end_time": "2023-10-25T22:35:35.096272",
     "exception": false,
     "start_time": "2023-10-25T22:35:35.080331",
     "status": "completed"
    },
    "tags": []
   },
   "source": [
    "## EDA"
   ]
  },
  {
   "cell_type": "markdown",
   "id": "9d035bd8",
   "metadata": {
    "papermill": {
     "duration": 0.017323,
     "end_time": "2023-10-25T22:35:35.131358",
     "exception": false,
     "start_time": "2023-10-25T22:35:35.114035",
     "status": "completed"
    },
    "tags": []
   },
   "source": [
    "Let's first check whether our target variable well distributed or not"
   ]
  },
  {
   "cell_type": "code",
   "execution_count": 23,
   "id": "bbe58f27",
   "metadata": {
    "execution": {
     "iopub.execute_input": "2023-10-25T22:35:35.167948Z",
     "iopub.status.busy": "2023-10-25T22:35:35.166844Z",
     "iopub.status.idle": "2023-10-25T22:35:35.489853Z",
     "shell.execute_reply": "2023-10-25T22:35:35.488382Z"
    },
    "papermill": {
     "duration": 0.343396,
     "end_time": "2023-10-25T22:35:35.491858",
     "exception": false,
     "start_time": "2023-10-25T22:35:35.148462",
     "status": "completed"
    },
    "tags": []
   },
   "outputs": [
    {
     "data": {
      "image/png": "[encoded data removed]",
      "text/plain": [
       "<Figure size 1000x700 with 1 Axes>"
      ]
     },
     "metadata": {},
     "output_type": "display_data"
    },
    {
     "data": {
      "text/plain": [
       "count    343593.000000\n",
       "mean       4555.147363\n",
       "std        4515.076200\n",
       "min           1.000000\n",
       "25%        1200.000000\n",
       "50%        2890.000000\n",
       "75%        6500.000000\n",
       "max       20000.000000\n",
       "Name: Price, dtype: float64"
      ]
     },
     "execution_count": 23,
     "metadata": {},
     "output_type": "execute_result"
    }
   ],
   "source": [
    "data['Price'].hist(bins=20, range = (0, 20000), figsize=(10, 7))\n",
    "plt.xlabel('count')\n",
    "plt.ylabel('Price')\n",
    "plt.title('Price distribution', fontsize = 15)\n",
    "plt.show();\n",
    "\n",
    "data['Price'].describe()"
   ]
  },
  {
   "cell_type": "code",
   "execution_count": 24,
   "id": "967252db",
   "metadata": {
    "execution": {
     "iopub.execute_input": "2023-10-25T22:35:35.526028Z",
     "iopub.status.busy": "2023-10-25T22:35:35.525435Z",
     "iopub.status.idle": "2023-10-25T22:35:36.105848Z",
     "shell.execute_reply": "2023-10-25T22:35:36.104841Z"
    },
    "papermill": {
     "duration": 0.599905,
     "end_time": "2023-10-25T22:35:36.107933",
     "exception": false,
     "start_time": "2023-10-25T22:35:35.508028",
     "status": "completed"
    },
    "tags": []
   },
   "outputs": [
    {
     "data": {
      "image/png": "[encoded data removed]",
      "text/plain": [
       "<Figure size 1000x700 with 1 Axes>"
      ]
     },
     "metadata": {},
     "output_type": "display_data"
    }
   ],
   "source": [
    "data.boxplot('Price', figsize=(10,7)).set_title('Boxplot (Price)', fontsize=15);"
   ]
  },
  {
   "cell_type": "markdown",
   "id": "2bcc9d99",
   "metadata": {
    "papermill": {
     "duration": 0.016488,
     "end_time": "2023-10-25T22:35:36.141555",
     "exception": false,
     "start_time": "2023-10-25T22:35:36.125067",
     "status": "completed"
    },
    "tags": []
   },
   "source": [
    "The median value of the price is about 2890 euros per car, the average is about 4555 euros. 75 % of values - up to 6500 euros, but the maximum value is 20000 euros, there are rare values - cars that cost more than 14000 euros."
   ]
  },
  {
   "cell_type": "code",
   "execution_count": 25,
   "id": "4fef9649",
   "metadata": {
    "execution": {
     "iopub.execute_input": "2023-10-25T22:35:36.180419Z",
     "iopub.status.busy": "2023-10-25T22:35:36.180031Z",
     "iopub.status.idle": "2023-10-25T22:35:36.203487Z",
     "shell.execute_reply": "2023-10-25T22:35:36.202779Z"
    },
    "papermill": {
     "duration": 0.044917,
     "end_time": "2023-10-25T22:35:36.205377",
     "exception": false,
     "start_time": "2023-10-25T22:35:36.160460",
     "status": "completed"
    },
    "tags": []
   },
   "outputs": [
    {
     "data": {
      "text/html": [
       "<div>\n",
       "<style scoped>\n",
       "    .dataframe tbody tr th:only-of-type {\n",
       "        vertical-align: middle;\n",
       "    }\n",
       "\n",
       "    .dataframe tbody tr th {\n",
       "        vertical-align: top;\n",
       "    }\n",
       "\n",
       "    .dataframe thead th {\n",
       "        text-align: right;\n",
       "    }\n",
       "</style>\n",
       "<table border=\"1\" class=\"dataframe\">\n",
       "  <thead>\n",
       "    <tr style=\"text-align: right;\">\n",
       "      <th></th>\n",
       "      <th>Price</th>\n",
       "      <th>VehicleType</th>\n",
       "      <th>Gearbox</th>\n",
       "      <th>Power</th>\n",
       "      <th>Model</th>\n",
       "      <th>Kilometer</th>\n",
       "      <th>FuelType</th>\n",
       "      <th>Brand</th>\n",
       "      <th>Repaired</th>\n",
       "    </tr>\n",
       "  </thead>\n",
       "  <tbody>\n",
       "    <tr>\n",
       "      <th>1</th>\n",
       "      <td>18300</td>\n",
       "      <td>coupe</td>\n",
       "      <td>manual</td>\n",
       "      <td>190</td>\n",
       "      <td></td>\n",
       "      <td>125000</td>\n",
       "      <td>gasoline</td>\n",
       "      <td>audi</td>\n",
       "      <td>yes</td>\n",
       "    </tr>\n",
       "    <tr>\n",
       "      <th>8</th>\n",
       "      <td>14500</td>\n",
       "      <td>bus</td>\n",
       "      <td>manual</td>\n",
       "      <td>125</td>\n",
       "      <td>c_max</td>\n",
       "      <td>30000</td>\n",
       "      <td>petrol</td>\n",
       "      <td>ford</td>\n",
       "      <td></td>\n",
       "    </tr>\n",
       "    <tr>\n",
       "      <th>14</th>\n",
       "      <td>17999</td>\n",
       "      <td>suv</td>\n",
       "      <td>manual</td>\n",
       "      <td>190</td>\n",
       "      <td>navara</td>\n",
       "      <td>70000</td>\n",
       "      <td>gasoline</td>\n",
       "      <td>nissan</td>\n",
       "      <td>no</td>\n",
       "    </tr>\n",
       "    <tr>\n",
       "      <th>33</th>\n",
       "      <td>18000</td>\n",
       "      <td>sedan</td>\n",
       "      <td>auto</td>\n",
       "      <td>218</td>\n",
       "      <td>3er</td>\n",
       "      <td>20000</td>\n",
       "      <td>petrol</td>\n",
       "      <td>bmw</td>\n",
       "      <td>no</td>\n",
       "    </tr>\n",
       "    <tr>\n",
       "      <th>50</th>\n",
       "      <td>14800</td>\n",
       "      <td>convertible</td>\n",
       "      <td>manual</td>\n",
       "      <td>170</td>\n",
       "      <td>1er</td>\n",
       "      <td>125000</td>\n",
       "      <td>petrol</td>\n",
       "      <td>bmw</td>\n",
       "      <td></td>\n",
       "    </tr>\n",
       "    <tr>\n",
       "      <th>...</th>\n",
       "      <td>...</td>\n",
       "      <td>...</td>\n",
       "      <td>...</td>\n",
       "      <td>...</td>\n",
       "      <td>...</td>\n",
       "      <td>...</td>\n",
       "      <td>...</td>\n",
       "      <td>...</td>\n",
       "      <td>...</td>\n",
       "    </tr>\n",
       "    <tr>\n",
       "      <th>354259</th>\n",
       "      <td>15000</td>\n",
       "      <td>sedan</td>\n",
       "      <td>auto</td>\n",
       "      <td>115</td>\n",
       "      <td>focus</td>\n",
       "      <td>60000</td>\n",
       "      <td>gasoline</td>\n",
       "      <td>ford</td>\n",
       "      <td>no</td>\n",
       "    </tr>\n",
       "    <tr>\n",
       "      <th>354279</th>\n",
       "      <td>16500</td>\n",
       "      <td>suv</td>\n",
       "      <td>manual</td>\n",
       "      <td>116</td>\n",
       "      <td>i_reihe</td>\n",
       "      <td>30000</td>\n",
       "      <td>gasoline</td>\n",
       "      <td>hyundai</td>\n",
       "      <td>no</td>\n",
       "    </tr>\n",
       "    <tr>\n",
       "      <th>354286</th>\n",
       "      <td>16500</td>\n",
       "      <td>coupe</td>\n",
       "      <td>manual</td>\n",
       "      <td>200</td>\n",
       "      <td>other</td>\n",
       "      <td>150000</td>\n",
       "      <td>petrol</td>\n",
       "      <td>bmw</td>\n",
       "      <td>yes</td>\n",
       "    </tr>\n",
       "    <tr>\n",
       "      <th>354306</th>\n",
       "      <td>16999</td>\n",
       "      <td>wagon</td>\n",
       "      <td>auto</td>\n",
       "      <td>269</td>\n",
       "      <td>a6</td>\n",
       "      <td>150000</td>\n",
       "      <td>gasoline</td>\n",
       "      <td>audi</td>\n",
       "      <td>no</td>\n",
       "    </tr>\n",
       "    <tr>\n",
       "      <th>354319</th>\n",
       "      <td>19800</td>\n",
       "      <td>sedan</td>\n",
       "      <td>manual</td>\n",
       "      <td>170</td>\n",
       "      <td>1er</td>\n",
       "      <td>80000</td>\n",
       "      <td>petrol</td>\n",
       "      <td>bmw</td>\n",
       "      <td>no</td>\n",
       "    </tr>\n",
       "  </tbody>\n",
       "</table>\n",
       "<p>19658 rows × 9 columns</p>\n",
       "</div>"
      ],
      "text/plain": [
       "        Price  VehicleType Gearbox  Power    Model  Kilometer  FuelType  \\\n",
       "1       18300        coupe  manual    190              125000  gasoline   \n",
       "8       14500          bus  manual    125    c_max      30000    petrol   \n",
       "14      17999          suv  manual    190   navara      70000  gasoline   \n",
       "33      18000        sedan    auto    218      3er      20000    petrol   \n",
       "50      14800  convertible  manual    170      1er     125000    petrol   \n",
       "...       ...          ...     ...    ...      ...        ...       ...   \n",
       "354259  15000        sedan    auto    115    focus      60000  gasoline   \n",
       "354279  16500          suv  manual    116  i_reihe      30000  gasoline   \n",
       "354286  16500        coupe  manual    200    other     150000    petrol   \n",
       "354306  16999        wagon    auto    269       a6     150000  gasoline   \n",
       "354319  19800        sedan  manual    170      1er      80000    petrol   \n",
       "\n",
       "          Brand Repaired  \n",
       "1          audi      yes  \n",
       "8          ford           \n",
       "14       nissan       no  \n",
       "33          bmw       no  \n",
       "50          bmw           \n",
       "...         ...      ...  \n",
       "354259     ford       no  \n",
       "354279  hyundai       no  \n",
       "354286      bmw      yes  \n",
       "354306     audi       no  \n",
       "354319      bmw       no  \n",
       "\n",
       "[19658 rows x 9 columns]"
      ]
     },
     "execution_count": 25,
     "metadata": {},
     "output_type": "execute_result"
    }
   ],
   "source": [
    "data.query('Price > 14000')"
   ]
  },
  {
   "cell_type": "code",
   "execution_count": 26,
   "id": "fa94f9a0",
   "metadata": {
    "execution": {
     "iopub.execute_input": "2023-10-25T22:35:36.245947Z",
     "iopub.status.busy": "2023-10-25T22:35:36.245510Z",
     "iopub.status.idle": "2023-10-25T22:35:36.865710Z",
     "shell.execute_reply": "2023-10-25T22:35:36.864840Z"
    },
    "papermill": {
     "duration": 0.643555,
     "end_time": "2023-10-25T22:35:36.867966",
     "exception": false,
     "start_time": "2023-10-25T22:35:36.224411",
     "status": "completed"
    },
    "tags": []
   },
   "outputs": [
    {
     "name": "stdout",
     "output_type": "stream",
     "text": [
      "VehicleType\n",
      "sedan          123155\n",
      "small           78017\n",
      "wagon           63700\n",
      "bus             28345\n",
      "convertible     19865\n",
      "coupe           15634\n",
      "suv             11791\n",
      "other            3086\n",
      "Name: count, dtype: int64\n"
     ]
    },
    {
     "data": {
      "image/png": "[encoded data removed]",
      "text/plain": [
       "<Figure size 1000x700 with 1 Axes>"
      ]
     },
     "metadata": {},
     "output_type": "display_data"
    }
   ],
   "source": [
    "#checking how the price is distributed depending on the type of the vehicle type\n",
    "\n",
    "data.boxplot('Price', 'VehicleType', figsize=(10,7)).set_title('Boxplot (Price)', fontsize=15);\n",
    "\n",
    "\n",
    "print(data['VehicleType'].value_counts())"
   ]
  },
  {
   "cell_type": "code",
   "execution_count": 27,
   "id": "f17ce0c1",
   "metadata": {
    "execution": {
     "iopub.execute_input": "2023-10-25T22:35:36.910244Z",
     "iopub.status.busy": "2023-10-25T22:35:36.909885Z",
     "iopub.status.idle": "2023-10-25T22:35:37.085582Z",
     "shell.execute_reply": "2023-10-25T22:35:37.084847Z"
    },
    "papermill": {
     "duration": 0.200855,
     "end_time": "2023-10-25T22:35:37.088069",
     "exception": false,
     "start_time": "2023-10-25T22:35:36.887214",
     "status": "completed"
    },
    "tags": []
   },
   "outputs": [
    {
     "data": {
      "image/png": "[encoded data removed]",
      "text/plain": [
       "<Figure size 640x480 with 1 Axes>"
      ]
     },
     "metadata": {},
     "output_type": "display_data"
    }
   ],
   "source": [
    "vals = [123155, 78017, 63700, 28345, 19865, 15634, 11791, 3086]\n",
    "labels = [\"sedan\", \"small\", \"wagon\", \"bus\", \"convertible\", \"coupe\", \"suv\", \"other\"]\n",
    "fig, ax = plt.subplots();\n",
    "ax.pie(vals, labels=labels, autopct='%1.1f%%', wedgeprops=dict(width=0.5));"
   ]
  },
  {
   "cell_type": "markdown",
   "id": "fbf07dce",
   "metadata": {
    "papermill": {
     "duration": 0.02502,
     "end_time": "2023-10-25T22:35:37.138087",
     "exception": false,
     "start_time": "2023-10-25T22:35:37.113067",
     "status": "completed"
    },
    "tags": []
   },
   "source": [
    "Almost 1/3 of the dataset (about 36%, or 123,155 ads) are cars with a sedan body type. About 23%, or 78,017 advertisements, are small cars, about 19%, or 63,700 advertisements, are wagons.\n",
    "According to the boxplot chart, the distribution of prices for these categories is as follows: the lowest median prices are for cars with a sedan body type, small cars and the “other” category, the highest are for SUVs."
   ]
  },
  {
   "cell_type": "code",
   "execution_count": 28,
   "id": "c3c265ce",
   "metadata": {
    "execution": {
     "iopub.execute_input": "2023-10-25T22:35:37.186501Z",
     "iopub.status.busy": "2023-10-25T22:35:37.185466Z",
     "iopub.status.idle": "2023-10-25T22:35:37.273634Z",
     "shell.execute_reply": "2023-10-25T22:35:37.272883Z"
    },
    "papermill": {
     "duration": 0.112941,
     "end_time": "2023-10-25T22:35:37.275665",
     "exception": false,
     "start_time": "2023-10-25T22:35:37.162724",
     "status": "completed"
    },
    "tags": []
   },
   "outputs": [
    {
     "name": "stdout",
     "output_type": "stream",
     "text": [
      "Price variance of the most popular type of cars - sedan: 18892397.704082713\n",
      "Price variance of other car body types: 21128295.392197\n",
      "Standard Deviation of price in the first group: 4346.538588817855\n",
      "Standard Deviation of price in the second group: 4596.552555143583\n",
      "p-value: 2.4575935854051103e-225\n",
      "Do not accept the null hypothesis\n",
      "Price mean in the first group: 4230.239576143884\n",
      "Price mean in the second group: 4736.667874867309\n"
     ]
    }
   ],
   "source": [
    "#Let's check the first hypothesis: the average price of the most popular cars with a sedan body type and the average price of other cars differ.\n",
    "#Let's formulate the null hypothesis H₀ (must be represented with an equal sign): the average price of cars in the first group is equal to the average price of cars in the second group.\n",
    "#Let's formulate an alternative hypothesis (it will be two-sided) H₁: the average price of cars of the first type is not equal (more or less) to the average price of cars of the second group.\n",
    "#Let's conduct a test for the hypothesis about the equality of two general populations.\n",
    "\n",
    "\n",
    "data_sedan = data.query('VehicleType == \"sedan\"')['Price']\n",
    "data_other = data.query('VehicleType != \"sedan\"')['Price']\n",
    "\n",
    "print('Price variance of the most popular type of cars - sedan:', np.var(data_sedan))\n",
    "print('Price variance of other car body types:', np.var(data_other))\n",
    "\n",
    "print('Standard Deviation of price in the first group:', np.std(data_sedan))\n",
    "print('Standard Deviation of price in the second group:', np.std(data_other))\n",
    "\n",
    "alpha = .01 \n",
    "# we will indicate the level of statistical significance (1%), which will mean that no more than a 1% probability of error is allowed. Those. the null hypothesis can be rejected in favor\n",
    "# alternative hypothesis, if according to the results of the statistical test the probability\n",
    "# errors, i.e. the probability of a random occurrence of the detected difference does not exceed 1 in 100, i.e. there is only a 1 in 100 chance of being wrong. If\n",
    "# this level of significance is not achieved (the probability of error is higher than 1%), we consider\n",
    "# that the difference may well be due to chance and therefore cannot be rejected as null\n",
    "# hypothesis\n",
    "\n",
    "results = st.ttest_ind(data_sedan, data_other, equal_var = False) \n",
    "\n",
    "print('p-value:', results.pvalue)\n",
    "\n",
    "if (results.pvalue < alpha):\n",
    "    print(\"Do not accept the null hypothesis\")\n",
    "else:\n",
    "    print(\"We can't reject the null hypothesis\")\n",
    "    \n",
    "    \n",
    "print('Price mean in the first group:', data_sedan.mean())\n",
    "print('Price mean in the second group:', data_other.mean())"
   ]
  },
  {
   "cell_type": "markdown",
   "id": "8b19a0b1",
   "metadata": {
    "papermill": {
     "duration": 0.018416,
     "end_time": "2023-10-25T22:35:37.313033",
     "exception": false,
     "start_time": "2023-10-25T22:35:37.294617",
     "status": "completed"
    },
    "tags": []
   },
   "source": [
    "With a 99% probability we can say that the average price of cars with the sedan body type is not equal to the average price of the group of other cars. The price variance of cars of the second group is higher, the standard deviation is also higher (by about 250 euros), the average price of the second group is about 4737 euros, which is about 500 euros more in comparison with cars with a sedan body type."
   ]
  },
  {
   "cell_type": "code",
   "execution_count": 29,
   "id": "6f47df39",
   "metadata": {
    "execution": {
     "iopub.execute_input": "2023-10-25T22:35:37.351671Z",
     "iopub.status.busy": "2023-10-25T22:35:37.351313Z",
     "iopub.status.idle": "2023-10-25T22:35:37.873748Z",
     "shell.execute_reply": "2023-10-25T22:35:37.872204Z"
    },
    "papermill": {
     "duration": 0.545208,
     "end_time": "2023-10-25T22:35:37.876592",
     "exception": false,
     "start_time": "2023-10-25T22:35:37.331384",
     "status": "completed"
    },
    "scrolled": true,
    "tags": []
   },
   "outputs": [
    {
     "name": "stdout",
     "output_type": "stream",
     "text": [
      "Gearbox\n",
      "manual    278726\n",
      "auto       64867\n",
      "Name: count, dtype: int64\n"
     ]
    },
    {
     "data": {
      "image/png": "[encoded data removed]",
      "text/plain": [
       "<Figure size 700x700 with 1 Axes>"
      ]
     },
     "metadata": {},
     "output_type": "display_data"
    }
   ],
   "source": [
    "#Price and type of gearbox (quantity-category)\n",
    "\n",
    "print(data['Gearbox'].value_counts())\n",
    "\n",
    "data.boxplot('Price', 'Gearbox', figsize=(7,7));\n"
   ]
  },
  {
   "cell_type": "code",
   "execution_count": 30,
   "id": "857165b0",
   "metadata": {
    "execution": {
     "iopub.execute_input": "2023-10-25T22:35:37.917309Z",
     "iopub.status.busy": "2023-10-25T22:35:37.916933Z",
     "iopub.status.idle": "2023-10-25T22:35:38.033516Z",
     "shell.execute_reply": "2023-10-25T22:35:38.032767Z"
    },
    "papermill": {
     "duration": 0.139602,
     "end_time": "2023-10-25T22:35:38.035590",
     "exception": false,
     "start_time": "2023-10-25T22:35:37.895988",
     "status": "completed"
    },
    "tags": []
   },
   "outputs": [
    {
     "data": {
      "image/png": "[encoded data removed]",
      "text/plain": [
       "<Figure size 640x480 with 1 Axes>"
      ]
     },
     "metadata": {},
     "output_type": "display_data"
    }
   ],
   "source": [
    "vals = [64867, 278726]\n",
    "labels = [\"auto\", \"manual\"]\n",
    "fig, ax = plt.subplots();\n",
    "ax.pie(vals, labels=labels, autopct='%1.1f%%', wedgeprops=dict(width=0.5));"
   ]
  },
  {
   "cell_type": "markdown",
   "id": "65a14393",
   "metadata": {
    "papermill": {
     "duration": 0.026772,
     "end_time": "2023-10-25T22:35:38.091952",
     "exception": false,
     "start_time": "2023-10-25T22:35:38.065180",
     "status": "completed"
    },
    "tags": []
   },
   "source": [
    "Cars with manual transmission - 278,726 (about 81%), with automatic - 64,867 (about 19%). The median price of cars with a manual transmission is about 2,500 euros, with an automatic transmission - about 5,500 euros."
   ]
  },
  {
   "cell_type": "code",
   "execution_count": 31,
   "id": "80f20411",
   "metadata": {
    "execution": {
     "iopub.execute_input": "2023-10-25T22:35:38.143844Z",
     "iopub.status.busy": "2023-10-25T22:35:38.142899Z",
     "iopub.status.idle": "2023-10-25T22:35:38.227325Z",
     "shell.execute_reply": "2023-10-25T22:35:38.226310Z"
    },
    "papermill": {
     "duration": 0.110248,
     "end_time": "2023-10-25T22:35:38.229974",
     "exception": false,
     "start_time": "2023-10-25T22:35:38.119726",
     "status": "completed"
    },
    "tags": []
   },
   "outputs": [
    {
     "name": "stdout",
     "output_type": "stream",
     "text": [
      "Price variation of the cars with the most popular gearbox type - manual: 16749676.534185696\n",
      "Price variation of the cars with the auto gearbox type: 28692650.7930605\n",
      "Standard deviation of the prices in the first group: 4092.6368681066365\n",
      "Standard deviation of the prices in the second group: 5356.552136688348\n",
      "p-value: 0.0\n",
      "Do not accept the null hypothesis\n",
      "The mean price of the cars with the manual gearbox: 3988.1351829395176\n",
      "The mean price of the cars with the auto gearbox: 6991.533152450398\n"
     ]
    }
   ],
   "source": [
    "#Let's check the second hypothesis: the average price of the most popular cars with a manual transmission and the average price of cars with an automatic transmission differ.\n",
    "#Let's formulate the null hypothesis H₀ (must be represented with an equal sign): the average price of cars in the first group is equal to the average price of cars in the second group.\n",
    "#Let's formulate an alternative hypothesis (it will be two-sided) H₁: the average price of cars of the first type is not equal (more or less) to the average price of cars of the second group.\n",
    "#Let's conduct a test for the hypothesis about the equality of two general populations.\n",
    "\n",
    "data_manual = data.query('Gearbox == \"manual\"')['Price']\n",
    "data_auto = data.query('Gearbox == \"auto\"')['Price']\n",
    "\n",
    "print('Price variation of the cars with the most popular gearbox type - manual:', np.var(data_manual))\n",
    "print('Price variation of the cars with the auto gearbox type:', np.var(data_auto))\n",
    "\n",
    "print('Standard deviation of the prices in the first group:', np.std(data_manual))\n",
    "print('Standard deviation of the prices in the second group:', np.std(data_auto))\n",
    "\n",
    "alpha = .01\n",
    "\n",
    "results = st.ttest_ind(data_manual, data_auto, equal_var = False) \n",
    "\n",
    "print('p-value:', results.pvalue)\n",
    "\n",
    "if (results.pvalue < alpha):\n",
    "    print(\"Do not accept the null hypothesis\")\n",
    "else:\n",
    "    print(\"We cannot reject the null hypothesis\")\n",
    "    \n",
    "print('The mean price of the cars with the manual gearbox:', data_manual.mean())\n",
    "print('The mean price of the cars with the auto gearbox:', data_auto.mean())"
   ]
  },
  {
   "cell_type": "markdown",
   "id": "2322256a",
   "metadata": {
    "papermill": {
     "duration": 0.019261,
     "end_time": "2023-10-25T22:35:38.269637",
     "exception": false,
     "start_time": "2023-10-25T22:35:38.250376",
     "status": "completed"
    },
    "tags": []
   },
   "source": [
    "With 99% probability we can say that the average price of cars with a manual gearbox and the average price of cars with an auto gearbox are not equal. The variance for the second group is higher, the standard deviation is also higher (by about 1250 euros). The average price for the first group is about 4,000 euros, for the second - about 7,000 euros. This once again confirms the constructed boxplot graph"
   ]
  },
  {
   "cell_type": "code",
   "execution_count": 32,
   "id": "a7347d44",
   "metadata": {
    "execution": {
     "iopub.execute_input": "2023-10-25T22:35:38.310460Z",
     "iopub.status.busy": "2023-10-25T22:35:38.310103Z",
     "iopub.status.idle": "2023-10-25T22:35:39.577186Z",
     "shell.execute_reply": "2023-10-25T22:35:39.575884Z"
    },
    "papermill": {
     "duration": 1.289801,
     "end_time": "2023-10-25T22:35:39.579202",
     "exception": false,
     "start_time": "2023-10-25T22:35:38.289401",
     "status": "completed"
    },
    "tags": []
   },
   "outputs": [
    {
     "name": "stdout",
     "output_type": "stream",
     "text": [
      "0.16042008877105934\n"
     ]
    },
    {
     "data": {
      "image/png": "[encoded data removed]",
      "text/plain": [
       "<Figure size 640x480 with 1 Axes>"
      ]
     },
     "metadata": {},
     "output_type": "display_data"
    }
   ],
   "source": [
    "#Price and power (quantity-quantity)\n",
    "#Let's check the dependence through correlation and table plot\n",
    "\n",
    "corrs = data['Price'].corr(data['Power'])\n",
    "print(corrs);\n",
    "data.plot(x='Price', y='Power', kind='scatter');"
   ]
  },
  {
   "cell_type": "markdown",
   "id": "0317a030",
   "metadata": {
    "papermill": {
     "duration": 0.02054,
     "end_time": "2023-10-25T22:35:39.619846",
     "exception": false,
     "start_time": "2023-10-25T22:35:39.599306",
     "status": "completed"
    },
    "tags": []
   },
   "source": [
    "There is a weak direct relationship between the price and power of a car."
   ]
  },
  {
   "cell_type": "code",
   "execution_count": 33,
   "id": "03150503",
   "metadata": {
    "execution": {
     "iopub.execute_input": "2023-10-25T22:35:39.662238Z",
     "iopub.status.busy": "2023-10-25T22:35:39.661254Z",
     "iopub.status.idle": "2023-10-25T22:35:39.688334Z",
     "shell.execute_reply": "2023-10-25T22:35:39.687100Z"
    },
    "papermill": {
     "duration": 0.050746,
     "end_time": "2023-10-25T22:35:39.690907",
     "exception": false,
     "start_time": "2023-10-25T22:35:39.640161",
     "status": "completed"
    },
    "tags": []
   },
   "outputs": [
    {
     "name": "stdout",
     "output_type": "stream",
     "text": [
      "Model\n",
      "golf                  28246\n",
      "other                 23706\n",
      "3er                   19179\n",
      "                      17521\n",
      "polo                  12628\n",
      "                      ...  \n",
      "serie_2                   8\n",
      "rangerover                4\n",
      "serie_3                   3\n",
      "range_rover_evoque        2\n",
      "serie_1                   1\n",
      "Name: count, Length: 251, dtype: int64\n"
     ]
    }
   ],
   "source": [
    "#Price and model (quantity-categ)\n",
    "\n",
    "print(data['Model'].value_counts())\n",
    "#data.boxplot('Price', data.query('Model == \"golf\"'), figsize=(10,10))"
   ]
  },
  {
   "cell_type": "markdown",
   "id": "d03b4068",
   "metadata": {
    "papermill": {
     "duration": 0.020294,
     "end_time": "2023-10-25T22:35:39.731521",
     "exception": false,
     "start_time": "2023-10-25T22:35:39.711227",
     "status": "completed"
    },
    "tags": []
   },
   "source": [
    "The most popular model is golf, the number of advertisements for this model is 28,246."
   ]
  },
  {
   "cell_type": "code",
   "execution_count": 34,
   "id": "0c7e1af8",
   "metadata": {
    "execution": {
     "iopub.execute_input": "2023-10-25T22:35:39.772854Z",
     "iopub.status.busy": "2023-10-25T22:35:39.772505Z",
     "iopub.status.idle": "2023-10-25T22:35:39.854970Z",
     "shell.execute_reply": "2023-10-25T22:35:39.853431Z"
    },
    "papermill": {
     "duration": 0.106137,
     "end_time": "2023-10-25T22:35:39.857580",
     "exception": false,
     "start_time": "2023-10-25T22:35:39.751443",
     "status": "completed"
    },
    "tags": []
   },
   "outputs": [
    {
     "name": "stdout",
     "output_type": "stream",
     "text": [
      "Price variation of the cars (Golf brand): 19118364.170283865\n",
      "Price variation of other cars: 20492997.162580155\n",
      "Standard deviation of the Golf cars prices: 4372.4551650398735\n",
      "Standard deviation of other cars prices: 4526.9191689912195\n",
      "p-value: 1.5199440257525924e-24\n",
      "We reject the null hypothesis\n",
      "Mean prices of the Golf cars: 4299.323727253416\n",
      "Mean prices of other cars: 4578.061785905685\n"
     ]
    }
   ],
   "source": [
    "#Let's check the third hypothesis: the average price of the most popular golf cars and the average price of other cars differ.\n",
    "#Let's formulate the null hypothesis H₀ (must be represented with an equal sign): the average price of cars in the first group is equal to the average price of cars in the second group.\n",
    "#Let's formulate an alternative hypothesis (it will be two-sided) H₁: the average price of cars of the first type is not equal (more or less) to the average price of cars of the second group.\n",
    "#Let's conduct a test for the hypothesis about the equality of two general populations.\n",
    "\n",
    "\n",
    "data_golf = data.query('Model == \"golf\"')['Price']\n",
    "data_other = data.query('Model != \"golf\"')['Price']\n",
    "\n",
    "print('Price variation of the cars (Golf brand):', np.var(data_golf))\n",
    "print('Price variation of other cars:', np.var(data_other))\n",
    "\n",
    "print('Standard deviation of the Golf cars prices:', np.std(data_golf))\n",
    "print('Standard deviation of other cars prices:', np.std(data_other))\n",
    "\n",
    "alpha = .01 \n",
    "\n",
    "results = st.ttest_ind(data_golf, data_other, equal_var = False) \n",
    "\n",
    "print('p-value:', results.pvalue)\n",
    "\n",
    "if (results.pvalue < alpha):\n",
    "    print(\"We reject the null hypothesis\")\n",
    "else:\n",
    "    print(\"We can't reject the hull hypothesis\")\n",
    "    \n",
    "print('Mean prices of the Golf cars:', data_golf.mean())\n",
    "print('Mean prices of other cars:', data_other.mean())"
   ]
  },
  {
   "cell_type": "markdown",
   "id": "d62c459d",
   "metadata": {
    "papermill": {
     "duration": 0.020514,
     "end_time": "2023-10-25T22:35:39.898333",
     "exception": false,
     "start_time": "2023-10-25T22:35:39.877819",
     "status": "completed"
    },
    "tags": []
   },
   "source": [
    "With 99% probability we can say that the average price for golf cars is not equal to the average price for other cars. The price dispersion for the second group is higher, the standard deviation is higher by approximately 150 euros. The average price for golf cars is about 4300 euros, for other cars - about 4600 euros."
   ]
  },
  {
   "cell_type": "code",
   "execution_count": 35,
   "id": "88f82622",
   "metadata": {
    "execution": {
     "iopub.execute_input": "2023-10-25T22:35:39.939960Z",
     "iopub.status.busy": "2023-10-25T22:35:39.939584Z",
     "iopub.status.idle": "2023-10-25T22:35:41.190515Z",
     "shell.execute_reply": "2023-10-25T22:35:41.188958Z"
    },
    "papermill": {
     "duration": 1.274999,
     "end_time": "2023-10-25T22:35:41.193270",
     "exception": false,
     "start_time": "2023-10-25T22:35:39.918271",
     "status": "completed"
    },
    "tags": []
   },
   "outputs": [
    {
     "name": "stdout",
     "output_type": "stream",
     "text": [
      "-0.35050396907513165\n"
     ]
    },
    {
     "data": {
      "image/png": "[encoded data removed]",
      "text/plain": [
       "<Figure size 640x480 with 1 Axes>"
      ]
     },
     "metadata": {},
     "output_type": "display_data"
    }
   ],
   "source": [
    "#Price and mileage (quantity-quantity)\n",
    "\n",
    "corrs = data['Kilometer'].corr(data['Price'])\n",
    "print(corrs)\n",
    "data.plot.scatter(x='Price', y='Kilometer');"
   ]
  },
  {
   "cell_type": "markdown",
   "id": "30c7913c",
   "metadata": {
    "papermill": {
     "duration": 0.020803,
     "end_time": "2023-10-25T22:35:41.235957",
     "exception": false,
     "start_time": "2023-10-25T22:35:41.215154",
     "status": "completed"
    },
    "tags": []
   },
   "source": [
    "There is an inverse weak relationship between the price and mileage of a car."
   ]
  },
  {
   "cell_type": "code",
   "execution_count": 36,
   "id": "a2acb675",
   "metadata": {
    "execution": {
     "iopub.execute_input": "2023-10-25T22:35:41.280825Z",
     "iopub.status.busy": "2023-10-25T22:35:41.280462Z",
     "iopub.status.idle": "2023-10-25T22:35:41.979802Z",
     "shell.execute_reply": "2023-10-25T22:35:41.978493Z"
    },
    "papermill": {
     "duration": 0.724597,
     "end_time": "2023-10-25T22:35:41.982333",
     "exception": false,
     "start_time": "2023-10-25T22:35:41.257736",
     "status": "completed"
    },
    "tags": []
   },
   "outputs": [
    {
     "name": "stdout",
     "output_type": "stream",
     "text": [
      "FuelType\n",
      "petrol      240221\n",
      "gasoline     97167\n",
      "lpg           5166\n",
      "cng            554\n",
      "hybrid         227\n",
      "other          170\n",
      "electric        88\n",
      "Name: count, dtype: int64\n"
     ]
    },
    {
     "data": {
      "image/png": "[encoded data removed]",
      "text/plain": [
       "<Figure size 1000x1000 with 1 Axes>"
      ]
     },
     "metadata": {},
     "output_type": "display_data"
    }
   ],
   "source": [
    "#Price and fuel type (quantity-categ)\n",
    "\n",
    "print(data['FuelType'].value_counts())\n",
    "\n",
    "data.boxplot('Price', 'FuelType', figsize=(10,10));"
   ]
  },
  {
   "cell_type": "code",
   "execution_count": 37,
   "id": "67d6337b",
   "metadata": {
    "execution": {
     "iopub.execute_input": "2023-10-25T22:35:42.029711Z",
     "iopub.status.busy": "2023-10-25T22:35:42.029366Z",
     "iopub.status.idle": "2023-10-25T22:35:42.192778Z",
     "shell.execute_reply": "2023-10-25T22:35:42.192027Z"
    },
    "papermill": {
     "duration": 0.189908,
     "end_time": "2023-10-25T22:35:42.194666",
     "exception": false,
     "start_time": "2023-10-25T22:35:42.004758",
     "status": "completed"
    },
    "tags": []
   },
   "outputs": [
    {
     "data": {
      "image/png": "[encoded data removed]",
      "text/plain": [
       "<Figure size 640x480 with 1 Axes>"
      ]
     },
     "metadata": {},
     "output_type": "display_data"
    }
   ],
   "source": [
    "vals = [240221, 97167, 5166, 554, 227, 170, 88]\n",
    "labels = [\"petrol\", \"gasoline\", \"lpg\", \"cng\", \"hybrid\", \"other\", \"electric\"]\n",
    "fig, ax = plt.subplots();\n",
    "ax.pie(vals, labels=labels, autopct='%1.1f%%', wedgeprops=dict(width=0.5));"
   ]
  },
  {
   "cell_type": "markdown",
   "id": "4972cfe8",
   "metadata": {
    "papermill": {
     "duration": 0.029274,
     "end_time": "2023-10-25T22:35:42.252144",
     "exception": false,
     "start_time": "2023-10-25T22:35:42.222870",
     "status": "completed"
    },
    "tags": []
   },
   "source": [
    "Cars with petrol fuel predominate (about 70%). The median price for such cars (less than 2,500 euros) is lower than almost all other groups."
   ]
  },
  {
   "cell_type": "code",
   "execution_count": 38,
   "id": "58231761",
   "metadata": {
    "execution": {
     "iopub.execute_input": "2023-10-25T22:35:42.303326Z",
     "iopub.status.busy": "2023-10-25T22:35:42.302730Z",
     "iopub.status.idle": "2023-10-25T22:35:42.383685Z",
     "shell.execute_reply": "2023-10-25T22:35:42.382536Z"
    },
    "papermill": {
     "duration": 0.106285,
     "end_time": "2023-10-25T22:35:42.385572",
     "exception": false,
     "start_time": "2023-10-25T22:35:42.279287",
     "status": "completed"
    },
    "tags": []
   },
   "outputs": [
    {
     "name": "stdout",
     "output_type": "stream",
     "text": [
      "The price variation of the petrol cars: 16519629.538688837\n",
      "The price variation of other cars: 23694119.585045766\n",
      "Standard deviation of the petrol cars prices: 4064.4347133013266\n",
      "Standard deviation of other cars prices: 4867.660586467155\n",
      "p-value: 0.0\n",
      "Reject the null hypothesis\n",
      "Mean of the prices for the petrol cars: 3697.8995966214443\n",
      "Mean of the prices for other cars: 6547.262401810935\n"
     ]
    }
   ],
   "source": [
    "#Let's check the fourth hypothesis: the average price of the most popular cars with petrol fuel and the average price of other cars differ.\n",
    "#Let's formulate the null hypothesis H₀ (must be represented with an equal sign): the average price of cars in the first group is equal to the average price of cars in the second group.\n",
    "#Let's formulate an alternative hypothesis (it will be two-sided) H₁: the average price of cars of the first type is not equal (more or less) to the average price of cars of the second group.\n",
    "#Let's conduct a test for the hypothesis about the equality of two general populations.\n",
    "\n",
    "data_petrol = data.query('FuelType == \"petrol\"')['Price']\n",
    "data_other = data.query('FuelType != \"petrol\"')['Price']\n",
    "\n",
    "print('The price variation of the petrol cars:', np.var(data_petrol))\n",
    "print('The price variation of other cars:', np.var(data_other))\n",
    "\n",
    "print('Standard deviation of the petrol cars prices:', np.std(data_petrol))\n",
    "print('Standard deviation of other cars prices:', np.std(data_other))\n",
    "\n",
    "alpha = .01 \n",
    "\n",
    "results = st.ttest_ind(data_petrol, data_other, equal_var = False) \n",
    "\n",
    "print('p-value:', results.pvalue)\n",
    "\n",
    "if (results.pvalue < alpha):\n",
    "    print(\"Reject the null hypothesis\")\n",
    "else:\n",
    "    print(\"We can't reject the null hypothesis\")\n",
    "    \n",
    "print('Mean of the prices for the petrol cars:', data_petrol.mean())\n",
    "print('Mean of the prices for other cars:', data_other.mean())\n"
   ]
  },
  {
   "cell_type": "markdown",
   "id": "375ae6d2",
   "metadata": {
    "papermill": {
     "duration": 0.021755,
     "end_time": "2023-10-25T22:35:42.428971",
     "exception": false,
     "start_time": "2023-10-25T22:35:42.407216",
     "status": "completed"
    },
    "tags": []
   },
   "source": [
    "To confirm the boxplot graph, with a 99% probability we can say that the average price of cars with petrol fuel is not equal to the average price of other cars. The dispersion is significantly lower for the first group, the standard deviation is lower by almost 800 euros. The average price of cars with petrol is about 3,700 euros, which is lower than the value for the second group by approximately 2,850 euros."
   ]
  },
  {
   "cell_type": "code",
   "execution_count": 39,
   "id": "97ec74a4",
   "metadata": {
    "execution": {
     "iopub.execute_input": "2023-10-25T22:35:42.475161Z",
     "iopub.status.busy": "2023-10-25T22:35:42.474525Z",
     "iopub.status.idle": "2023-10-25T22:35:42.498579Z",
     "shell.execute_reply": "2023-10-25T22:35:42.497632Z"
    },
    "papermill": {
     "duration": 0.050352,
     "end_time": "2023-10-25T22:35:42.500862",
     "exception": false,
     "start_time": "2023-10-25T22:35:42.450510",
     "status": "completed"
    },
    "scrolled": true,
    "tags": []
   },
   "outputs": [
    {
     "name": "stdout",
     "output_type": "stream",
     "text": [
      "Brand\n",
      "volkswagen        74412\n",
      "opel              38530\n",
      "bmw               35809\n",
      "mercedes_benz     31357\n",
      "audi              28574\n",
      "ford              24457\n",
      "renault           17389\n",
      "peugeot           10781\n",
      "fiat               9332\n",
      "seat               6718\n",
      "mazda              5465\n",
      "skoda              5435\n",
      "smart              5171\n",
      "citroen            5029\n",
      "nissan             4807\n",
      "toyota             4536\n",
      "hyundai            3533\n",
      "mini               3165\n",
      "volvo              3122\n",
      "mitsubishi         2927\n",
      "sonstige_autos     2847\n",
      "honda              2715\n",
      "kia                2407\n",
      "suzuki             2272\n",
      "alfa_romeo         2234\n",
      "chevrolet          1704\n",
      "chrysler           1368\n",
      "dacia               890\n",
      "daihatsu            775\n",
      "subaru              735\n",
      "porsche             734\n",
      "jeep                658\n",
      "land_rover          534\n",
      "daewoo              533\n",
      "saab                515\n",
      "trabant             498\n",
      "jaguar              493\n",
      "rover               462\n",
      "lancia              457\n",
      "lada                213\n",
      "Name: count, dtype: int64\n"
     ]
    }
   ],
   "source": [
    "#Price and brand (quantity-brand)\n",
    "\n",
    "print(data['Brand'].value_counts())\n"
   ]
  },
  {
   "cell_type": "markdown",
   "id": "13b9024c",
   "metadata": {
    "papermill": {
     "duration": 0.021878,
     "end_time": "2023-10-25T22:35:42.545063",
     "exception": false,
     "start_time": "2023-10-25T22:35:42.523185",
     "status": "completed"
    },
    "tags": []
   },
   "source": [
    "The most popular car brand is Volkswagen (about 75,000 ads)."
   ]
  },
  {
   "cell_type": "code",
   "execution_count": 40,
   "id": "9addbe58",
   "metadata": {
    "execution": {
     "iopub.execute_input": "2023-10-25T22:35:42.593140Z",
     "iopub.status.busy": "2023-10-25T22:35:42.592075Z",
     "iopub.status.idle": "2023-10-25T22:35:42.670346Z",
     "shell.execute_reply": "2023-10-25T22:35:42.668781Z"
    },
    "papermill": {
     "duration": 0.105046,
     "end_time": "2023-10-25T22:35:42.672406",
     "exception": false,
     "start_time": "2023-10-25T22:35:42.567360",
     "status": "completed"
    },
    "tags": []
   },
   "outputs": [
    {
     "name": "stdout",
     "output_type": "stream",
     "text": [
      "The price variation of the most popular cars Volkswagen: 19930386.73882725\n",
      "The price variation of other cars: 20511610.408302616\n",
      "Standard deviation of cars prices in the first group: 4464.3461714821415\n",
      "Standard deviation of cars prices in the second group: 4528.974542686525\n",
      "p-value: 0.1532339654763963\n",
      "We can't reject the null hypothesis\n",
      "The mean price of Volkswagen cars: 4534.393538676558\n",
      "The mean price of other cars: 4560.884520081284\n"
     ]
    }
   ],
   "source": [
    "#Let's check the fifth hypothesis: the average price of the most popular Volkswagen cars and the average price of other cars differ.\n",
    "#Let's formulate the null hypothesis H₀ (must be represented with an equal sign): the average price of cars in the first group is equal to the average price of cars in the second group.\n",
    "#Let's formulate an alternative hypothesis (it will be two-sided) H₁: the average price of cars of the first type is not equal (more or less) to the average price of cars of the second group.\n",
    "#Let's conduct a test for the hypothesis about the equality of two general populations.\n",
    "\n",
    "data_volkswagen = data.query('Brand == \"volkswagen\"')['Price']\n",
    "data_other = data.query('Brand != \"volkswagen\"')['Price']\n",
    "\n",
    "print('The price variation of the most popular cars Volkswagen:', np.var(data_volkswagen))\n",
    "print('The price variation of other cars:', np.var(data_other))\n",
    "\n",
    "print('Standard deviation of cars prices in the first group:', np.std(data_volkswagen))\n",
    "print('Standard deviation of cars prices in the second group:', np.std(data_other))\n",
    "\n",
    "alpha = .01 \n",
    "\n",
    "results = st.ttest_ind(data_volkswagen, data_other, equal_var = False) \n",
    "\n",
    "print('p-value:', results.pvalue)\n",
    "\n",
    "if (results.pvalue < alpha):\n",
    "    print(\"Reject the null hypothesis\")\n",
    "else:\n",
    "    print(\"We can't reject the null hypothesis\")\n",
    "    \n",
    "print('The mean price of Volkswagen cars:', data_volkswagen.mean())\n",
    "print('The mean price of other cars:', data_other.mean())"
   ]
  },
  {
   "cell_type": "markdown",
   "id": "cdb2a9c7",
   "metadata": {
    "papermill": {
     "duration": 0.022076,
     "end_time": "2023-10-25T22:35:42.716885",
     "exception": false,
     "start_time": "2023-10-25T22:35:42.694809",
     "status": "completed"
    },
    "tags": []
   },
   "source": [
    "With a 99% probability we can say that the average price of Volkswagen cars is close in value to the average price of the group of other cars. The difference in variances is not that high, the difference in standard deviations is only about 65 euros. The average price of Volkswagen cars is about 4534, other cars are about 4560, the difference is less than 30 euros."
   ]
  },
  {
   "cell_type": "code",
   "execution_count": 41,
   "id": "1eb9fca0",
   "metadata": {
    "execution": {
     "iopub.execute_input": "2023-10-25T22:35:42.762658Z",
     "iopub.status.busy": "2023-10-25T22:35:42.762340Z",
     "iopub.status.idle": "2023-10-25T22:35:43.387611Z",
     "shell.execute_reply": "2023-10-25T22:35:43.386268Z"
    },
    "papermill": {
     "duration": 0.651129,
     "end_time": "2023-10-25T22:35:43.390080",
     "exception": false,
     "start_time": "2023-10-25T22:35:42.738951",
     "status": "completed"
    },
    "tags": []
   },
   "outputs": [
    {
     "name": "stdout",
     "output_type": "stream",
     "text": [
      "Repaired\n",
      "no     243679\n",
      "        65866\n",
      "yes     34048\n",
      "Name: count, dtype: int64\n"
     ]
    },
    {
     "data": {
      "image/png": "[encoded data removed]",
      "text/plain": [
       "<Figure size 1000x1000 with 1 Axes>"
      ]
     },
     "metadata": {},
     "output_type": "display_data"
    }
   ],
   "source": [
    "#Price and the repair factor (quantity-categ)\n",
    "\n",
    "print(data['Repaired'].value_counts())\n",
    "\n",
    "\n",
    "data.boxplot('Price', 'Repaired', figsize=(10,10));"
   ]
  },
  {
   "cell_type": "code",
   "execution_count": 42,
   "id": "df52af63",
   "metadata": {
    "execution": {
     "iopub.execute_input": "2023-10-25T22:35:43.437562Z",
     "iopub.status.busy": "2023-10-25T22:35:43.437177Z",
     "iopub.status.idle": "2023-10-25T22:35:43.564469Z",
     "shell.execute_reply": "2023-10-25T22:35:43.563729Z"
    },
    "papermill": {
     "duration": 0.153187,
     "end_time": "2023-10-25T22:35:43.566564",
     "exception": false,
     "start_time": "2023-10-25T22:35:43.413377",
     "status": "completed"
    },
    "tags": []
   },
   "outputs": [
    {
     "data": {
      "image/png": "[encoded data removed]",
      "text/plain": [
       "<Figure size 640x480 with 1 Axes>"
      ]
     },
     "metadata": {},
     "output_type": "display_data"
    }
   ],
   "source": [
    "vals = [34048, 243679]\n",
    "labels = [\"Not repaired\", \"repaired\"]\n",
    "fig, ax = plt.subplots()\n",
    "ax.pie(vals, labels=labels, autopct='%1.1f%%', wedgeprops=dict(width=0.5));"
   ]
  },
  {
   "cell_type": "markdown",
   "id": "657a456d",
   "metadata": {
    "papermill": {
     "duration": 0.032315,
     "end_time": "2023-10-25T22:35:43.629420",
     "exception": false,
     "start_time": "2023-10-25T22:35:43.597105",
     "status": "completed"
    },
    "tags": []
   },
   "source": [
    "About 88% of advertisements are for cars with repairs and about 12% are for cars without repairs. The median price for cars with repairs is higher than the median price for cars without repairs."
   ]
  },
  {
   "cell_type": "code",
   "execution_count": 43,
   "id": "9454b3fb",
   "metadata": {
    "execution": {
     "iopub.execute_input": "2023-10-25T22:35:43.682681Z",
     "iopub.status.busy": "2023-10-25T22:35:43.682236Z",
     "iopub.status.idle": "2023-10-25T22:35:43.752048Z",
     "shell.execute_reply": "2023-10-25T22:35:43.750079Z"
    },
    "papermill": {
     "duration": 0.096736,
     "end_time": "2023-10-25T22:35:43.754543",
     "exception": false,
     "start_time": "2023-10-25T22:35:43.657807",
     "status": "completed"
    },
    "tags": []
   },
   "outputs": [
    {
     "name": "stdout",
     "output_type": "stream",
     "text": [
      "The price variation of the cars that were repaired: 7322257.873467496\n",
      "The price variation of the cars that weren't repaired: 22227933.98854842\n",
      "Standard deviation of the prices of the cars that were repaired: 2705.9670865454914\n",
      "Standard deviation of the prices of the cars that weren't repaired: 4714.6509932919125\n",
      "p-value: 0.0\n",
      "Reject the null hypothesis\n",
      "The mean price of the repaired cars: 2028.788005169173\n",
      "The mean price of the cars without a repair: 5372.479118020018\n"
     ]
    }
   ],
   "source": [
    "#Let's check the sixth hypothesis: the average price of cars with repair and the average price of cars without repair differ.\n",
    "#Let's formulate the null hypothesis H₀ (must be represented with an equal sign): the average price of cars in the first group is equal to the average price of cars in the second group.\n",
    "#Let's formulate an alternative hypothesis (it will be two-sided) H₁: the average price of cars of the first type is not equal (more or less) to the average price of cars of the second group.\n",
    "#Let's conduct a test for the hypothesis about the equality of two general populations.\n",
    "\n",
    "data_repaired = data.query('Repaired == \"yes\"')['Price']\n",
    "data_notrepaired = data.query('Repaired == \"no\"')['Price']\n",
    "\n",
    "print('The price variation of the cars that were repaired:', np.var(data_repaired))\n",
    "print(\"The price variation of the cars that weren't repaired:\", np.var(data_notrepaired))\n",
    "\n",
    "print('Standard deviation of the prices of the cars that were repaired:', np.std(data_repaired))\n",
    "print(\"Standard deviation of the prices of the cars that weren't repaired:\", np.std(data_notrepaired))\n",
    "\n",
    "alpha = .01\n",
    "\n",
    "results = st.ttest_ind(data_repaired, data_notrepaired, equal_var = False) \n",
    "\n",
    "print('p-value:', results.pvalue)\n",
    "\n",
    "if (results.pvalue < alpha):\n",
    "    print(\"Reject the null hypothesis\")\n",
    "else:\n",
    "    print(\"We can't reject the null hypothesis\")\n",
    "    \n",
    "print('The mean price of the repaired cars:', data_repaired.mean())\n",
    "print('The mean price of the cars without a repair:', data_notrepaired.mean())"
   ]
  },
  {
   "cell_type": "markdown",
   "id": "98c6c0f8",
   "metadata": {
    "papermill": {
     "duration": 0.022522,
     "end_time": "2023-10-25T22:35:43.800168",
     "exception": false,
     "start_time": "2023-10-25T22:35:43.777646",
     "status": "completed"
    },
    "tags": []
   },
   "source": [
    "With 99% probability we can say that the average price for cars with/without repair differs. The variance in several times higher for the first group, the standard deviation is higher by almost 2000 euros. The average price for cars with repair is about 5,373 euros, without repair - about 2,029 euros."
   ]
  },
  {
   "cell_type": "markdown",
   "id": "6e6d181c",
   "metadata": {
    "papermill": {
     "duration": 0.023023,
     "end_time": "2023-10-25T22:35:43.846073",
     "exception": false,
     "start_time": "2023-10-25T22:35:43.823050",
     "status": "completed"
    },
    "tags": []
   },
   "source": [
    "During the EDA, we processed gaps and duplicates, checked the relationship of independent indicators with the target feature, and removed uninformative data, including rows with a zero value of the target feature."
   ]
  },
  {
   "cell_type": "markdown",
   "id": "a1fb1c8e",
   "metadata": {
    "papermill": {
     "duration": 0.022718,
     "end_time": "2023-10-25T22:35:43.892105",
     "exception": false,
     "start_time": "2023-10-25T22:35:43.869387",
     "status": "completed"
    },
    "tags": []
   },
   "source": [
    "# 2. Training"
   ]
  },
  {
   "cell_type": "code",
   "execution_count": 44,
   "id": "224d1644",
   "metadata": {
    "execution": {
     "iopub.execute_input": "2023-10-25T22:35:43.940107Z",
     "iopub.status.busy": "2023-10-25T22:35:43.939748Z",
     "iopub.status.idle": "2023-10-25T22:35:44.122395Z",
     "shell.execute_reply": "2023-10-25T22:35:44.121063Z"
    },
    "papermill": {
     "duration": 0.209506,
     "end_time": "2023-10-25T22:35:44.124851",
     "exception": false,
     "start_time": "2023-10-25T22:35:43.915345",
     "status": "completed"
    },
    "tags": []
   },
   "outputs": [
    {
     "name": "stdout",
     "output_type": "stream",
     "text": [
      "(257694, 8) (85899, 8) (257694,) (85899,)\n"
     ]
    }
   ],
   "source": [
    "#let's split the data into the train and test parts\n",
    "\n",
    "features_train, features_test, target_train, target_test = train_test_split(\n",
    "    data.drop('Price', axis=1), data.Price, test_size=0.25, random_state=12345)\n",
    "\n",
    "print(features_train.shape, features_test.shape, target_train.shape, target_test.shape)\n"
   ]
  },
  {
   "cell_type": "code",
   "execution_count": 45,
   "id": "e69d6ace",
   "metadata": {
    "execution": {
     "iopub.execute_input": "2023-10-25T22:35:44.175932Z",
     "iopub.status.busy": "2023-10-25T22:35:44.175521Z",
     "iopub.status.idle": "2023-10-25T22:35:44.202807Z",
     "shell.execute_reply": "2023-10-25T22:35:44.201782Z"
    },
    "papermill": {
     "duration": 0.055864,
     "end_time": "2023-10-25T22:35:44.205576",
     "exception": false,
     "start_time": "2023-10-25T22:35:44.149712",
     "status": "completed"
    },
    "scrolled": true,
    "tags": []
   },
   "outputs": [
    {
     "data": {
      "text/html": [
       "<div>\n",
       "<style scoped>\n",
       "    .dataframe tbody tr th:only-of-type {\n",
       "        vertical-align: middle;\n",
       "    }\n",
       "\n",
       "    .dataframe tbody tr th {\n",
       "        vertical-align: top;\n",
       "    }\n",
       "\n",
       "    .dataframe thead th {\n",
       "        text-align: right;\n",
       "    }\n",
       "</style>\n",
       "<table border=\"1\" class=\"dataframe\">\n",
       "  <thead>\n",
       "    <tr style=\"text-align: right;\">\n",
       "      <th></th>\n",
       "      <th>VehicleType</th>\n",
       "      <th>Gearbox</th>\n",
       "      <th>Power</th>\n",
       "      <th>Model</th>\n",
       "      <th>Kilometer</th>\n",
       "      <th>FuelType</th>\n",
       "      <th>Brand</th>\n",
       "      <th>Repaired</th>\n",
       "    </tr>\n",
       "  </thead>\n",
       "  <tbody>\n",
       "    <tr>\n",
       "      <th>54218</th>\n",
       "      <td>sedan</td>\n",
       "      <td>manual</td>\n",
       "      <td>0.701771</td>\n",
       "      <td>5er</td>\n",
       "      <td>0.577495</td>\n",
       "      <td>petrol</td>\n",
       "      <td>bmw</td>\n",
       "      <td></td>\n",
       "    </tr>\n",
       "    <tr>\n",
       "      <th>179462</th>\n",
       "      <td>bus</td>\n",
       "      <td>auto</td>\n",
       "      <td>-0.627929</td>\n",
       "      <td>voyager</td>\n",
       "      <td>0.577495</td>\n",
       "      <td>lpg</td>\n",
       "      <td>chrysler</td>\n",
       "      <td></td>\n",
       "    </tr>\n",
       "    <tr>\n",
       "      <th>208850</th>\n",
       "      <td>small</td>\n",
       "      <td>auto</td>\n",
       "      <td>-0.288431</td>\n",
       "      <td>corsa</td>\n",
       "      <td>0.577495</td>\n",
       "      <td>petrol</td>\n",
       "      <td>opel</td>\n",
       "      <td>no</td>\n",
       "    </tr>\n",
       "    <tr>\n",
       "      <th>340750</th>\n",
       "      <td>small</td>\n",
       "      <td>manual</td>\n",
       "      <td>-0.299748</td>\n",
       "      <td>twingo</td>\n",
       "      <td>-1.555553</td>\n",
       "      <td>petrol</td>\n",
       "      <td>renault</td>\n",
       "      <td>no</td>\n",
       "    </tr>\n",
       "    <tr>\n",
       "      <th>22569</th>\n",
       "      <td>sedan</td>\n",
       "      <td>manual</td>\n",
       "      <td>-0.288431</td>\n",
       "      <td>ibiza</td>\n",
       "      <td>0.577495</td>\n",
       "      <td>petrol</td>\n",
       "      <td>seat</td>\n",
       "      <td>no</td>\n",
       "    </tr>\n",
       "  </tbody>\n",
       "</table>\n",
       "</div>"
      ],
      "text/plain": [
       "       VehicleType Gearbox     Power    Model  Kilometer FuelType     Brand  \\\n",
       "54218        sedan  manual  0.701771      5er   0.577495   petrol       bmw   \n",
       "179462         bus    auto -0.627929  voyager   0.577495      lpg  chrysler   \n",
       "208850       small    auto -0.288431    corsa   0.577495   petrol      opel   \n",
       "340750       small  manual -0.299748   twingo  -1.555553   petrol   renault   \n",
       "22569        sedan  manual -0.288431    ibiza   0.577495   petrol      seat   \n",
       "\n",
       "       Repaired  \n",
       "54218            \n",
       "179462           \n",
       "208850       no  \n",
       "340750       no  \n",
       "22569        no  "
      ]
     },
     "execution_count": 45,
     "metadata": {},
     "output_type": "execute_result"
    }
   ],
   "source": [
    "#Let's bring numerical characteristics to scale 1\n",
    "\n",
    "numeric = ['Power', 'Kilometer']\n",
    "scaler = StandardScaler()\n",
    "scaler.fit(features_train[numeric])\n",
    "\n",
    "features_train[numeric] = scaler.transform(features_train[numeric])\n",
    "features_test[numeric] = scaler.transform(features_test[numeric])\n",
    "features_train.head()"
   ]
  },
  {
   "cell_type": "code",
   "execution_count": 46,
   "id": "65b29ae5",
   "metadata": {
    "execution": {
     "iopub.execute_input": "2023-10-25T22:35:44.254991Z",
     "iopub.status.busy": "2023-10-25T22:35:44.254198Z",
     "iopub.status.idle": "2023-10-25T22:35:44.327093Z",
     "shell.execute_reply": "2023-10-25T22:35:44.325286Z"
    },
    "papermill": {
     "duration": 0.100001,
     "end_time": "2023-10-25T22:35:44.329444",
     "exception": false,
     "start_time": "2023-10-25T22:35:44.229443",
     "status": "completed"
    },
    "tags": []
   },
   "outputs": [
    {
     "name": "stdout",
     "output_type": "stream",
     "text": [
      "<class 'pandas.core.frame.DataFrame'>\n",
      "Index: 343593 entries, 0 to 354368\n",
      "Data columns (total 9 columns):\n",
      " #   Column       Non-Null Count   Dtype \n",
      "---  ------       --------------   ----- \n",
      " 0   Price        343593 non-null  int64 \n",
      " 1   VehicleType  343593 non-null  object\n",
      " 2   Gearbox      343593 non-null  object\n",
      " 3   Power        343593 non-null  int64 \n",
      " 4   Model        343593 non-null  object\n",
      " 5   Kilometer    343593 non-null  int64 \n",
      " 6   FuelType     343593 non-null  object\n",
      " 7   Brand        343593 non-null  object\n",
      " 8   Repaired     343593 non-null  object\n",
      "dtypes: int64(3), object(6)\n",
      "memory usage: 26.2+ MB\n"
     ]
    }
   ],
   "source": [
    "data.info()"
   ]
  },
  {
   "cell_type": "code",
   "execution_count": 47,
   "id": "bb2bf8a7",
   "metadata": {
    "execution": {
     "iopub.execute_input": "2023-10-25T22:35:44.380120Z",
     "iopub.status.busy": "2023-10-25T22:35:44.379533Z",
     "iopub.status.idle": "2023-10-25T22:35:44.383380Z",
     "shell.execute_reply": "2023-10-25T22:35:44.382643Z"
    },
    "papermill": {
     "duration": 0.032428,
     "end_time": "2023-10-25T22:35:44.386038",
     "exception": false,
     "start_time": "2023-10-25T22:35:44.353610",
     "status": "completed"
    },
    "tags": []
   },
   "outputs": [],
   "source": [
    "#the categorical features\n",
    "\n",
    "cat_features = ['VehicleType', 'Gearbox', 'Model', 'FuelType', 'Brand', 'Repaired']"
   ]
  },
  {
   "cell_type": "markdown",
   "id": "882ec4fd",
   "metadata": {
    "papermill": {
     "duration": 0.024943,
     "end_time": "2023-10-25T22:35:44.436123",
     "exception": false,
     "start_time": "2023-10-25T22:35:44.411180",
     "status": "completed"
    },
    "tags": []
   },
   "source": [
    "Using Gridsearch, we will select the best catboostregressor model, setting the depth to 5, 10 and 15, as well as the training level to 0.1 and 1."
   ]
  },
  {
   "cell_type": "code",
   "execution_count": 48,
   "id": "1fce9d43",
   "metadata": {
    "execution": {
     "iopub.execute_input": "2023-10-25T22:35:44.486283Z",
     "iopub.status.busy": "2023-10-25T22:35:44.485393Z",
     "iopub.status.idle": "2023-10-25T22:38:19.942736Z",
     "shell.execute_reply": "2023-10-25T22:38:19.941301Z"
    },
    "papermill": {
     "duration": 155.48493,
     "end_time": "2023-10-25T22:38:19.944942",
     "exception": false,
     "start_time": "2023-10-25T22:35:44.460012",
     "status": "completed"
    },
    "tags": []
   },
   "outputs": [
    {
     "name": "stdout",
     "output_type": "stream",
     "text": [
      "0:\tlearn: 4299.5876015\ttotal: 103ms\tremaining: 5.06s\n",
      "15:\tlearn: 2950.2721955\ttotal: 694ms\tremaining: 1.48s\n",
      "30:\tlearn: 2712.9752815\ttotal: 1.25s\tremaining: 765ms\n",
      "45:\tlearn: 2641.9199652\ttotal: 1.79s\tremaining: 156ms\n",
      "49:\tlearn: 2627.5659151\ttotal: 1.94s\tremaining: 0us\n",
      "0:\tlearn: 4296.8688172\ttotal: 55.7ms\tremaining: 2.73s\n",
      "15:\tlearn: 2947.7502185\ttotal: 631ms\tremaining: 1.34s\n",
      "30:\tlearn: 2706.9937697\ttotal: 1.18s\tremaining: 726ms\n",
      "45:\tlearn: 2630.8459230\ttotal: 1.73s\tremaining: 150ms\n",
      "49:\tlearn: 2618.0721362\ttotal: 1.88s\tremaining: 0us\n",
      "0:\tlearn: 4295.6590261\ttotal: 52.9ms\tremaining: 2.59s\n",
      "15:\tlearn: 2950.2687454\ttotal: 628ms\tremaining: 1.33s\n",
      "30:\tlearn: 2719.2586996\ttotal: 1.18s\tremaining: 726ms\n",
      "45:\tlearn: 2645.8768665\ttotal: 1.74s\tremaining: 152ms\n",
      "49:\tlearn: 2633.7215290\ttotal: 1.89s\tremaining: 0us\n",
      "0:\tlearn: 3189.7785864\ttotal: 53.4ms\tremaining: 2.62s\n",
      "15:\tlearn: 2564.8710039\ttotal: 636ms\tremaining: 1.35s\n",
      "30:\tlearn: 2454.9484116\ttotal: 1.18s\tremaining: 723ms\n",
      "45:\tlearn: 2397.2695949\ttotal: 1.78s\tremaining: 155ms\n",
      "49:\tlearn: 2385.4001122\ttotal: 1.92s\tremaining: 0us\n",
      "0:\tlearn: 3191.6298485\ttotal: 54.8ms\tremaining: 2.69s\n",
      "15:\tlearn: 2572.6775450\ttotal: 619ms\tremaining: 1.31s\n",
      "30:\tlearn: 2453.6583446\ttotal: 1.2s\tremaining: 733ms\n",
      "45:\tlearn: 2400.9203615\ttotal: 1.75s\tremaining: 152ms\n",
      "49:\tlearn: 2389.7434603\ttotal: 1.89s\tremaining: 0us\n",
      "0:\tlearn: 3195.3635870\ttotal: 51.6ms\tremaining: 2.53s\n",
      "15:\tlearn: 2567.4179607\ttotal: 635ms\tremaining: 1.35s\n",
      "30:\tlearn: 2471.6741349\ttotal: 1.19s\tremaining: 728ms\n",
      "45:\tlearn: 2420.7270817\ttotal: 1.74s\tremaining: 151ms\n",
      "49:\tlearn: 2407.9239641\ttotal: 1.88s\tremaining: 0us\n",
      "0:\tlearn: 4264.1296638\ttotal: 93.4ms\tremaining: 4.58s\n",
      "15:\tlearn: 2774.3069469\ttotal: 1.24s\tremaining: 2.63s\n",
      "30:\tlearn: 2543.2735391\ttotal: 2.34s\tremaining: 1.44s\n",
      "45:\tlearn: 2465.8816675\ttotal: 3.45s\tremaining: 300ms\n",
      "49:\tlearn: 2451.6762574\ttotal: 3.75s\tremaining: 0us\n",
      "0:\tlearn: 4260.3484123\ttotal: 95ms\tremaining: 4.65s\n",
      "15:\tlearn: 2768.6843362\ttotal: 1.24s\tremaining: 2.63s\n",
      "30:\tlearn: 2534.0187263\ttotal: 2.32s\tremaining: 1.42s\n",
      "45:\tlearn: 2460.3927049\ttotal: 3.42s\tremaining: 297ms\n",
      "49:\tlearn: 2448.5885362\ttotal: 3.72s\tremaining: 0us\n",
      "0:\tlearn: 4262.3758125\ttotal: 89.5ms\tremaining: 4.38s\n",
      "15:\tlearn: 2773.8797589\ttotal: 1.2s\tremaining: 2.55s\n",
      "30:\tlearn: 2548.1827945\ttotal: 2.34s\tremaining: 1.43s\n",
      "45:\tlearn: 2475.8210081\ttotal: 3.45s\tremaining: 300ms\n",
      "49:\tlearn: 2460.8689817\ttotal: 3.84s\tremaining: 0us\n",
      "0:\tlearn: 2917.8206588\ttotal: 109ms\tremaining: 5.33s\n",
      "15:\tlearn: 2319.7549181\ttotal: 1.25s\tremaining: 2.66s\n",
      "30:\tlearn: 2187.4189374\ttotal: 2.38s\tremaining: 1.46s\n",
      "45:\tlearn: 2124.4032130\ttotal: 3.48s\tremaining: 303ms\n",
      "49:\tlearn: 2108.7861830\ttotal: 3.79s\tremaining: 0us\n",
      "0:\tlearn: 2911.4809435\ttotal: 89ms\tremaining: 4.36s\n",
      "15:\tlearn: 2331.8660940\ttotal: 1.2s\tremaining: 2.55s\n",
      "30:\tlearn: 2168.9896596\ttotal: 2.32s\tremaining: 1.42s\n",
      "45:\tlearn: 2097.5774814\ttotal: 3.41s\tremaining: 296ms\n",
      "49:\tlearn: 2080.7379539\ttotal: 3.71s\tremaining: 0us\n",
      "0:\tlearn: 2940.3172786\ttotal: 88.7ms\tremaining: 4.35s\n",
      "15:\tlearn: 2343.6947033\ttotal: 1.22s\tremaining: 2.59s\n",
      "30:\tlearn: 2181.0152956\ttotal: 2.32s\tremaining: 1.42s\n",
      "45:\tlearn: 2098.3713412\ttotal: 3.44s\tremaining: 299ms\n",
      "49:\tlearn: 2083.2508638\ttotal: 3.73s\tremaining: 0us\n",
      "0:\tlearn: 4256.8312728\ttotal: 167ms\tremaining: 8.19s\n",
      "15:\tlearn: 2692.3773074\ttotal: 4.77s\tremaining: 10.1s\n",
      "30:\tlearn: 2387.1717841\ttotal: 9.53s\tremaining: 5.84s\n",
      "45:\tlearn: 2284.2127819\ttotal: 14.3s\tremaining: 1.25s\n",
      "49:\tlearn: 2268.9248652\ttotal: 15.6s\tremaining: 0us\n",
      "0:\tlearn: 4253.5510657\ttotal: 165ms\tremaining: 8.11s\n",
      "15:\tlearn: 2691.3212854\ttotal: 5.06s\tremaining: 10.8s\n",
      "30:\tlearn: 2381.3035417\ttotal: 9.89s\tremaining: 6.06s\n",
      "45:\tlearn: 2280.1109463\ttotal: 14.6s\tremaining: 1.27s\n",
      "49:\tlearn: 2258.6880982\ttotal: 15.9s\tremaining: 0us\n",
      "0:\tlearn: 4251.2877284\ttotal: 322ms\tremaining: 15.8s\n",
      "15:\tlearn: 2701.6656065\ttotal: 5.07s\tremaining: 10.8s\n",
      "30:\tlearn: 2401.3861119\ttotal: 9.88s\tremaining: 6.05s\n",
      "45:\tlearn: 2307.5524172\ttotal: 14.7s\tremaining: 1.27s\n",
      "49:\tlearn: 2288.1581394\ttotal: 15.9s\tremaining: 0us\n",
      "0:\tlearn: 2858.1949337\ttotal: 127ms\tremaining: 6.23s\n",
      "15:\tlearn: 2064.5273893\ttotal: 5.04s\tremaining: 10.7s\n",
      "30:\tlearn: 1881.1470599\ttotal: 9.74s\tremaining: 5.97s\n",
      "45:\tlearn: 1784.2261753\ttotal: 14.6s\tremaining: 1.26s\n",
      "49:\tlearn: 1760.0807578\ttotal: 15.8s\tremaining: 0us\n",
      "0:\tlearn: 2856.4723694\ttotal: 169ms\tremaining: 8.27s\n",
      "15:\tlearn: 2050.7295885\ttotal: 4.97s\tremaining: 10.6s\n",
      "30:\tlearn: 1870.2814942\ttotal: 9.8s\tremaining: 6s\n",
      "45:\tlearn: 1753.1994284\ttotal: 14.5s\tremaining: 1.26s\n",
      "49:\tlearn: 1733.5948190\ttotal: 15.9s\tremaining: 0us\n",
      "0:\tlearn: 2843.9030856\ttotal: 361ms\tremaining: 17.7s\n",
      "15:\tlearn: 2042.3175712\ttotal: 5.21s\tremaining: 11.1s\n",
      "30:\tlearn: 1875.7766834\ttotal: 10s\tremaining: 6.14s\n",
      "45:\tlearn: 1763.2059304\ttotal: 14.9s\tremaining: 1.29s\n",
      "49:\tlearn: 1733.3729390\ttotal: 16.1s\tremaining: 0us\n",
      "0:\tlearn: 2892.3605675\ttotal: 154ms\tremaining: 7.53s\n",
      "15:\tlearn: 2055.6555297\ttotal: 5.68s\tremaining: 12.1s\n",
      "30:\tlearn: 1922.7828074\ttotal: 11.1s\tremaining: 6.81s\n",
      "45:\tlearn: 1818.5066241\ttotal: 16.8s\tremaining: 1.46s\n",
      "49:\tlearn: 1800.1363251\ttotal: 18.2s\tremaining: 0us\n",
      "{'depth': 15, 'learning_rate': 1}\n",
      "<catboost.core.CatBoostRegressor object at 0x7a8d1e31d9f0>\n",
      "CPU times: user 7min 1s, sys: 27.2 s, total: 7min 28s\n",
      "Wall time: 2min 35s\n"
     ]
    }
   ],
   "source": [
    "%%time\n",
    "model_cat = CatBoostRegressor(cat_features=cat_features, iterations=50, verbose=15)\n",
    "param_grid = {'learning_rate': [0.1, 1], 'depth': [5, 10, 15]} \n",
    "\n",
    "gs = GridSearchCV(estimator=model_cat, param_grid = param_grid, cv = 3, scoring='neg_mean_squared_error')\n",
    "gs.fit(features_train, target_train)\n",
    "\n",
    "print(gs.best_params_)\n",
    "print(gs.best_estimator_)"
   ]
  },
  {
   "cell_type": "markdown",
   "id": "9adf1f48",
   "metadata": {
    "papermill": {
     "duration": 0.028165,
     "end_time": "2023-10-25T22:38:20.002194",
     "exception": false,
     "start_time": "2023-10-25T22:38:19.974029",
     "status": "completed"
    },
    "tags": []
   },
   "source": [
    "Let's train the best model and check the training time"
   ]
  },
  {
   "cell_type": "code",
   "execution_count": 49,
   "id": "de094ab4",
   "metadata": {
    "execution": {
     "iopub.execute_input": "2023-10-25T22:38:20.061335Z",
     "iopub.status.busy": "2023-10-25T22:38:20.060992Z",
     "iopub.status.idle": "2023-10-25T22:38:38.609152Z",
     "shell.execute_reply": "2023-10-25T22:38:38.607741Z"
    },
    "papermill": {
     "duration": 18.581274,
     "end_time": "2023-10-25T22:38:38.612011",
     "exception": false,
     "start_time": "2023-10-25T22:38:20.030737",
     "status": "completed"
    },
    "scrolled": true,
    "tags": []
   },
   "outputs": [
    {
     "name": "stdout",
     "output_type": "stream",
     "text": [
      "0:\tlearn: 2892.3605675\ttotal: 165ms\tremaining: 8.1s\n",
      "15:\tlearn: 2055.6555297\ttotal: 5.65s\tremaining: 12s\n",
      "30:\tlearn: 1922.7828074\ttotal: 11.1s\tremaining: 6.81s\n",
      "45:\tlearn: 1818.5066241\ttotal: 16.6s\tremaining: 1.45s\n",
      "49:\tlearn: 1800.1363251\ttotal: 18.1s\tremaining: 0us\n",
      "CPU times: user 49.5 s, sys: 3.54 s, total: 53 s\n",
      "Wall time: 18.5 s\n"
     ]
    },
    {
     "data": {
      "text/plain": [
       "<catboost.core.CatBoostRegressor at 0x7a8d1e382a40>"
      ]
     },
     "execution_count": 49,
     "metadata": {},
     "output_type": "execute_result"
    }
   ],
   "source": [
    "%%time\n",
    "model_cat = CatBoostRegressor(depth= 15, iterations=50, verbose=15, learning_rate=1)\n",
    "model_cat.fit(features_train, target_train, cat_features=cat_features)"
   ]
  },
  {
   "cell_type": "code",
   "execution_count": 50,
   "id": "158f939c",
   "metadata": {
    "execution": {
     "iopub.execute_input": "2023-10-25T22:38:38.672047Z",
     "iopub.status.busy": "2023-10-25T22:38:38.671693Z",
     "iopub.status.idle": "2023-10-25T22:38:38.801224Z",
     "shell.execute_reply": "2023-10-25T22:38:38.800069Z"
    },
    "papermill": {
     "duration": 0.162726,
     "end_time": "2023-10-25T22:38:38.804014",
     "exception": false,
     "start_time": "2023-10-25T22:38:38.641288",
     "status": "completed"
    },
    "tags": []
   },
   "outputs": [],
   "source": [
    "# let's transform categorical features into a special type category for the lgbmregressor model\n",
    "\n",
    "features_train[['FuelType', 'Gearbox', 'Brand', 'Model', 'Repaired', 'VehicleType']] = features_train[['FuelType', 'Gearbox', 'Brand', 'Model', 'Repaired', 'VehicleType']].astype('category')\n",
    "\n",
    "categorical_feature=['VehicleType', 'Gearbox', 'Model', 'FuelType', 'Brand', 'Repaired']"
   ]
  },
  {
   "cell_type": "markdown",
   "id": "98bdde67",
   "metadata": {
    "papermill": {
     "duration": 0.028279,
     "end_time": "2023-10-25T22:38:38.862280",
     "exception": false,
     "start_time": "2023-10-25T22:38:38.834001",
     "status": "completed"
    },
    "tags": []
   },
   "source": [
    "Let's use the gridsearch method again to find the best parameters for the lgbmregressor model, suggesting depths of 5, 10 and 15, learning levels of 0.1 and 1, number of leaves 2 and 31."
   ]
  },
  {
   "cell_type": "code",
   "execution_count": 51,
   "id": "92d34b7c",
   "metadata": {
    "execution": {
     "iopub.execute_input": "2023-10-25T22:38:38.922969Z",
     "iopub.status.busy": "2023-10-25T22:38:38.922585Z",
     "iopub.status.idle": "2023-10-25T22:39:26.158627Z",
     "shell.execute_reply": "2023-10-25T22:39:26.157189Z"
    },
    "papermill": {
     "duration": 47.268116,
     "end_time": "2023-10-25T22:39:26.160580",
     "exception": false,
     "start_time": "2023-10-25T22:38:38.892464",
     "status": "completed"
    },
    "tags": []
   },
   "outputs": [
    {
     "name": "stdout",
     "output_type": "stream",
     "text": [
      "Fitting 3 folds for each of 12 candidates, totalling 36 fits\n",
      "[CV 1/3; 1/12] START learning_rate=0.1, max_depth=5, num_leaves=2...............\n",
      "[CV 1/3; 1/12] END learning_rate=0.1, max_depth=5, num_leaves=2;, score=-8434494.228 total time=   0.7s\n",
      "[CV 2/3; 1/12] START learning_rate=0.1, max_depth=5, num_leaves=2...............\n",
      "[CV 2/3; 1/12] END learning_rate=0.1, max_depth=5, num_leaves=2;, score=-8478201.321 total time=   0.6s\n",
      "[CV 3/3; 1/12] START learning_rate=0.1, max_depth=5, num_leaves=2...............\n",
      "[CV 3/3; 1/12] END learning_rate=0.1, max_depth=5, num_leaves=2;, score=-8454178.230 total time=   0.6s\n",
      "[CV 1/3; 2/12] START learning_rate=0.1, max_depth=5, num_leaves=31..............\n",
      "[CV 1/3; 2/12] END learning_rate=0.1, max_depth=5, num_leaves=31;, score=-5495064.059 total time=   1.7s\n",
      "[CV 2/3; 2/12] START learning_rate=0.1, max_depth=5, num_leaves=31..............\n",
      "[CV 2/3; 2/12] END learning_rate=0.1, max_depth=5, num_leaves=31;, score=-5499346.448 total time=   1.8s\n",
      "[CV 3/3; 2/12] START learning_rate=0.1, max_depth=5, num_leaves=31..............\n",
      "[CV 3/3; 2/12] END learning_rate=0.1, max_depth=5, num_leaves=31;, score=-5433511.775 total time=   1.6s\n",
      "[CV 1/3; 3/12] START learning_rate=0.1, max_depth=10, num_leaves=2..............\n",
      "[CV 1/3; 3/12] END learning_rate=0.1, max_depth=10, num_leaves=2;, score=-8434494.228 total time=   0.6s\n",
      "[CV 2/3; 3/12] START learning_rate=0.1, max_depth=10, num_leaves=2..............\n",
      "[CV 2/3; 3/12] END learning_rate=0.1, max_depth=10, num_leaves=2;, score=-8478201.321 total time=   0.8s\n",
      "[CV 3/3; 3/12] START learning_rate=0.1, max_depth=10, num_leaves=2..............\n",
      "[CV 3/3; 3/12] END learning_rate=0.1, max_depth=10, num_leaves=2;, score=-8454178.230 total time=   1.0s\n",
      "[CV 1/3; 4/12] START learning_rate=0.1, max_depth=10, num_leaves=31.............\n",
      "[CV 1/3; 4/12] END learning_rate=0.1, max_depth=10, num_leaves=31;, score=-5176760.733 total time=   2.2s\n",
      "[CV 2/3; 4/12] START learning_rate=0.1, max_depth=10, num_leaves=31.............\n",
      "[CV 2/3; 4/12] END learning_rate=0.1, max_depth=10, num_leaves=31;, score=-5278250.091 total time=   2.1s\n",
      "[CV 3/3; 4/12] START learning_rate=0.1, max_depth=10, num_leaves=31.............\n",
      "[CV 3/3; 4/12] END learning_rate=0.1, max_depth=10, num_leaves=31;, score=-5106294.999 total time=   2.2s\n",
      "[CV 1/3; 5/12] START learning_rate=0.1, max_depth=15, num_leaves=2..............\n",
      "[CV 1/3; 5/12] END learning_rate=0.1, max_depth=15, num_leaves=2;, score=-8434494.228 total time=   0.6s\n",
      "[CV 2/3; 5/12] START learning_rate=0.1, max_depth=15, num_leaves=2..............\n",
      "[CV 2/3; 5/12] END learning_rate=0.1, max_depth=15, num_leaves=2;, score=-8478201.321 total time=   0.6s\n",
      "[CV 3/3; 5/12] START learning_rate=0.1, max_depth=15, num_leaves=2..............\n",
      "[CV 3/3; 5/12] END learning_rate=0.1, max_depth=15, num_leaves=2;, score=-8454178.230 total time=   0.6s\n",
      "[CV 1/3; 6/12] START learning_rate=0.1, max_depth=15, num_leaves=31.............\n",
      "[CV 1/3; 6/12] END learning_rate=0.1, max_depth=15, num_leaves=31;, score=-5164753.257 total time=   1.9s\n",
      "[CV 2/3; 6/12] START learning_rate=0.1, max_depth=15, num_leaves=31.............\n",
      "[CV 2/3; 6/12] END learning_rate=0.1, max_depth=15, num_leaves=31;, score=-5205804.265 total time=   2.2s\n",
      "[CV 3/3; 6/12] START learning_rate=0.1, max_depth=15, num_leaves=31.............\n",
      "[CV 3/3; 6/12] END learning_rate=0.1, max_depth=15, num_leaves=31;, score=-5098013.391 total time=   2.2s\n",
      "[CV 1/3; 7/12] START learning_rate=1, max_depth=5, num_leaves=2.................\n",
      "[CV 1/3; 7/12] END learning_rate=1, max_depth=5, num_leaves=2;, score=-7399531.904 total time=   0.6s\n",
      "[CV 2/3; 7/12] START learning_rate=1, max_depth=5, num_leaves=2.................\n",
      "[CV 2/3; 7/12] END learning_rate=1, max_depth=5, num_leaves=2;, score=-7461667.387 total time=   0.6s\n",
      "[CV 3/3; 7/12] START learning_rate=1, max_depth=5, num_leaves=2.................\n",
      "[CV 3/3; 7/12] END learning_rate=1, max_depth=5, num_leaves=2;, score=-7355798.584 total time=   0.6s\n",
      "[CV 1/3; 8/12] START learning_rate=1, max_depth=5, num_leaves=31................\n",
      "[CV 1/3; 8/12] END learning_rate=1, max_depth=5, num_leaves=31;, score=-5097598.520 total time=   1.6s\n",
      "[CV 2/3; 8/12] START learning_rate=1, max_depth=5, num_leaves=31................\n",
      "[CV 2/3; 8/12] END learning_rate=1, max_depth=5, num_leaves=31;, score=-5155386.704 total time=   1.6s\n",
      "[CV 3/3; 8/12] START learning_rate=1, max_depth=5, num_leaves=31................\n",
      "[CV 3/3; 8/12] END learning_rate=1, max_depth=5, num_leaves=31;, score=-5080282.473 total time=   1.5s\n",
      "[CV 1/3; 9/12] START learning_rate=1, max_depth=10, num_leaves=2................\n",
      "[CV 1/3; 9/12] END learning_rate=1, max_depth=10, num_leaves=2;, score=-7399531.904 total time=   0.6s\n",
      "[CV 2/3; 9/12] START learning_rate=1, max_depth=10, num_leaves=2................\n",
      "[CV 2/3; 9/12] END learning_rate=1, max_depth=10, num_leaves=2;, score=-7461667.387 total time=   0.6s\n",
      "[CV 3/3; 9/12] START learning_rate=1, max_depth=10, num_leaves=2................\n",
      "[CV 3/3; 9/12] END learning_rate=1, max_depth=10, num_leaves=2;, score=-7355798.584 total time=   0.6s\n",
      "[CV 1/3; 10/12] START learning_rate=1, max_depth=10, num_leaves=31..............\n",
      "[CV 1/3; 10/12] END learning_rate=1, max_depth=10, num_leaves=31;, score=-4923588.936 total time=   1.8s\n",
      "[CV 2/3; 10/12] START learning_rate=1, max_depth=10, num_leaves=31..............\n",
      "[CV 2/3; 10/12] END learning_rate=1, max_depth=10, num_leaves=31;, score=-5026028.017 total time=   1.8s\n",
      "[CV 3/3; 10/12] START learning_rate=1, max_depth=10, num_leaves=31..............\n",
      "[CV 3/3; 10/12] END learning_rate=1, max_depth=10, num_leaves=31;, score=-4906426.496 total time=   1.8s\n",
      "[CV 1/3; 11/12] START learning_rate=1, max_depth=15, num_leaves=2...............\n",
      "[CV 1/3; 11/12] END learning_rate=1, max_depth=15, num_leaves=2;, score=-7399531.904 total time=   0.6s\n",
      "[CV 2/3; 11/12] START learning_rate=1, max_depth=15, num_leaves=2...............\n",
      "[CV 2/3; 11/12] END learning_rate=1, max_depth=15, num_leaves=2;, score=-7461667.387 total time=   0.6s\n",
      "[CV 3/3; 11/12] START learning_rate=1, max_depth=15, num_leaves=2...............\n",
      "[CV 3/3; 11/12] END learning_rate=1, max_depth=15, num_leaves=2;, score=-7355798.584 total time=   1.0s\n",
      "[CV 1/3; 12/12] START learning_rate=1, max_depth=15, num_leaves=31..............\n",
      "[CV 1/3; 12/12] END learning_rate=1, max_depth=15, num_leaves=31;, score=-5063102.482 total time=   1.8s\n",
      "[CV 2/3; 12/12] START learning_rate=1, max_depth=15, num_leaves=31..............\n",
      "[CV 2/3; 12/12] END learning_rate=1, max_depth=15, num_leaves=31;, score=-5058286.352 total time=   1.8s\n",
      "[CV 3/3; 12/12] START learning_rate=1, max_depth=15, num_leaves=31..............\n",
      "[CV 3/3; 12/12] END learning_rate=1, max_depth=15, num_leaves=31;, score=-4915080.717 total time=   1.9s\n",
      "{'learning_rate': 1, 'max_depth': 10, 'num_leaves': 31}\n",
      "LGBMRegressor(learning_rate=1, max_depth=10)\n",
      "CPU times: user 1min 31s, sys: 12.8 s, total: 1min 43s\n",
      "Wall time: 47.2 s\n"
     ]
    }
   ],
   "source": [
    "%%time\n",
    "model_lgbm = lgb.LGBMRegressor()\n",
    "\n",
    "param_grid = {\n",
    "              'learning_rate': [0.1, 1], \n",
    "              'max_depth': [5, 10, 15],\n",
    "              'num_leaves': [2, 31]\n",
    "             } \n",
    "\n",
    "grid = GridSearchCV(estimator=model_lgbm, param_grid=param_grid, cv = 3, scoring='neg_mean_squared_error', refit = True, verbose = 15)\n",
    "grid.fit(features_train, target_train)\n",
    "\n",
    "print(grid.best_params_)\n",
    "print(grid.best_estimator_)"
   ]
  },
  {
   "cell_type": "markdown",
   "id": "08b337f7",
   "metadata": {
    "papermill": {
     "duration": 0.031769,
     "end_time": "2023-10-25T22:39:26.224174",
     "exception": false,
     "start_time": "2023-10-25T22:39:26.192405",
     "status": "completed"
    },
    "tags": []
   },
   "source": [
    "Again let's train a model based on the selected parameters above and check the speed of operation"
   ]
  },
  {
   "cell_type": "code",
   "execution_count": 52,
   "id": "f5174ba4",
   "metadata": {
    "execution": {
     "iopub.execute_input": "2023-10-25T22:39:26.289159Z",
     "iopub.status.busy": "2023-10-25T22:39:26.288766Z",
     "iopub.status.idle": "2023-10-25T22:39:28.406973Z",
     "shell.execute_reply": "2023-10-25T22:39:28.406181Z"
    },
    "papermill": {
     "duration": 2.153193,
     "end_time": "2023-10-25T22:39:28.409281",
     "exception": false,
     "start_time": "2023-10-25T22:39:26.256088",
     "status": "completed"
    },
    "tags": []
   },
   "outputs": [
    {
     "name": "stderr",
     "output_type": "stream",
     "text": [
      "/opt/conda/lib/python3.10/site-packages/lightgbm/sklearn.py:598: UserWarning: 'silent' argument is deprecated and will be removed in a future release of LightGBM. Pass 'verbose' parameter via keyword arguments instead.\n",
      "  _log_warning(\"'silent' argument is deprecated and will be removed in a future release of LightGBM. \"\n",
      "/opt/conda/lib/python3.10/site-packages/lightgbm/basic.py:2065: UserWarning: Using categorical_feature in Dataset.\n",
      "  _log_warning('Using categorical_feature in Dataset.')\n"
     ]
    },
    {
     "name": "stdout",
     "output_type": "stream",
     "text": [
      "CPU times: user 3.32 s, sys: 765 ms, total: 4.09 s\n",
      "Wall time: 2.11 s\n"
     ]
    },
    {
     "data": {
      "text/html": [
       "<style>#sk-container-id-1 {color: black;background-color: white;}#sk-container-id-1 pre{padding: 0;}#sk-container-id-1 div.sk-toggleable {background-color: white;}#sk-container-id-1 label.sk-toggleable__label {cursor: pointer;display: block;width: 100%;margin-bottom: 0;padding: 0.3em;box-sizing: border-box;text-align: center;}#sk-container-id-1 label.sk-toggleable__label-arrow:before {content: \"▸\";float: left;margin-right: 0.25em;color: #696969;}#sk-container-id-1 label.sk-toggleable__label-arrow:hover:before {color: black;}#sk-container-id-1 div.sk-estimator:hover label.sk-toggleable__label-arrow:before {color: black;}#sk-container-id-1 div.sk-toggleable__content {max-height: 0;max-width: 0;overflow: hidden;text-align: left;background-color: #f0f8ff;}#sk-container-id-1 div.sk-toggleable__content pre {margin: 0.2em;color: black;border-radius: 0.25em;background-color: #f0f8ff;}#sk-container-id-1 input.sk-toggleable__control:checked~div.sk-toggleable__content {max-height: 200px;max-width: 100%;overflow: auto;}#sk-container-id-1 input.sk-toggleable__control:checked~label.sk-toggleable__label-arrow:before {content: \"▾\";}#sk-container-id-1 div.sk-estimator input.sk-toggleable__control:checked~label.sk-toggleable__label {background-color: #d4ebff;}#sk-container-id-1 div.sk-label input.sk-toggleable__control:checked~label.sk-toggleable__label {background-color: #d4ebff;}#sk-container-id-1 input.sk-hidden--visually {border: 0;clip: rect(1px 1px 1px 1px);clip: rect(1px, 1px, 1px, 1px);height: 1px;margin: -1px;overflow: hidden;padding: 0;position: absolute;width: 1px;}#sk-container-id-1 div.sk-estimator {font-family: monospace;background-color: #f0f8ff;border: 1px dotted black;border-radius: 0.25em;box-sizing: border-box;margin-bottom: 0.5em;}#sk-container-id-1 div.sk-estimator:hover {background-color: #d4ebff;}#sk-container-id-1 div.sk-parallel-item::after {content: \"\";width: 100%;border-bottom: 1px solid gray;flex-grow: 1;}#sk-container-id-1 div.sk-label:hover label.sk-toggleable__label {background-color: #d4ebff;}#sk-container-id-1 div.sk-serial::before {content: \"\";position: absolute;border-left: 1px solid gray;box-sizing: border-box;top: 0;bottom: 0;left: 50%;z-index: 0;}#sk-container-id-1 div.sk-serial {display: flex;flex-direction: column;align-items: center;background-color: white;padding-right: 0.2em;padding-left: 0.2em;position: relative;}#sk-container-id-1 div.sk-item {position: relative;z-index: 1;}#sk-container-id-1 div.sk-parallel {display: flex;align-items: stretch;justify-content: center;background-color: white;position: relative;}#sk-container-id-1 div.sk-item::before, #sk-container-id-1 div.sk-parallel-item::before {content: \"\";position: absolute;border-left: 1px solid gray;box-sizing: border-box;top: 0;bottom: 0;left: 50%;z-index: -1;}#sk-container-id-1 div.sk-parallel-item {display: flex;flex-direction: column;z-index: 1;position: relative;background-color: white;}#sk-container-id-1 div.sk-parallel-item:first-child::after {align-self: flex-end;width: 50%;}#sk-container-id-1 div.sk-parallel-item:last-child::after {align-self: flex-start;width: 50%;}#sk-container-id-1 div.sk-parallel-item:only-child::after {width: 0;}#sk-container-id-1 div.sk-dashed-wrapped {border: 1px dashed gray;margin: 0 0.4em 0.5em 0.4em;box-sizing: border-box;padding-bottom: 0.4em;background-color: white;}#sk-container-id-1 div.sk-label label {font-family: monospace;font-weight: bold;display: inline-block;line-height: 1.2em;}#sk-container-id-1 div.sk-label-container {text-align: center;}#sk-container-id-1 div.sk-container {/* jupyter's `normalize.less` sets `[hidden] { display: none; }` but bootstrap.min.css set `[hidden] { display: none !important; }` so we also need the `!important` here to be able to override the default hidden behavior on the sphinx rendered scikit-learn.org. See: https://github.com/scikit-learn/scikit-learn/issues/21755 */display: inline-block !important;position: relative;}#sk-container-id-1 div.sk-text-repr-fallback {display: none;}</style><div id=\"sk-container-id-1\" class=\"sk-top-container\"><div class=\"sk-text-repr-fallback\"><pre>LGBMRegressor(learning_rate=1, max_depth=15, silent=True)</pre><b>In a Jupyter environment, please rerun this cell to show the HTML representation or trust the notebook. <br />On GitHub, the HTML representation is unable to render, please try loading this page with nbviewer.org.</b></div><div class=\"sk-container\" hidden><div class=\"sk-item\"><div class=\"sk-estimator sk-toggleable\"><input class=\"sk-toggleable__control sk-hidden--visually\" id=\"sk-estimator-id-1\" type=\"checkbox\" checked><label for=\"sk-estimator-id-1\" class=\"sk-toggleable__label sk-toggleable__label-arrow\">LGBMRegressor</label><div class=\"sk-toggleable__content\"><pre>LGBMRegressor(learning_rate=1, max_depth=15, silent=True)</pre></div></div></div></div></div>"
      ],
      "text/plain": [
       "LGBMRegressor(learning_rate=1, max_depth=15, silent=True)"
      ]
     },
     "execution_count": 52,
     "metadata": {},
     "output_type": "execute_result"
    }
   ],
   "source": [
    "%%time\n",
    "lgbm_model = lgb.LGBMRegressor(boosting_type='gbdt', class_weight=None, colsample_bytree=1.0,\n",
    "              importance_type='split', learning_rate=1, max_depth=15,\n",
    "              min_child_samples=20, min_child_weight=0.001, min_split_gain=0.0,\n",
    "              n_estimators=100, n_jobs=-1, num_leaves=31, objective=None,\n",
    "              random_state=None, reg_alpha=0.0, reg_lambda=0.0, silent=True,\n",
    "              subsample=1.0, subsample_for_bin=200000, subsample_freq=0)\n",
    "\n",
    "lgbm_model.fit(features_train, target_train, categorical_feature=categorical_feature)"
   ]
  },
  {
   "cell_type": "markdown",
   "id": "39ebd458",
   "metadata": {
    "papermill": {
     "duration": 0.033155,
     "end_time": "2023-10-25T22:39:28.474732",
     "exception": false,
     "start_time": "2023-10-25T22:39:28.441577",
     "status": "completed"
    },
    "tags": []
   },
   "source": [
    "We divided the data into training and testing sets. Using Gridsearch, we selected the best parameters for the CatBoostRegressor and LGBMRegressor models. The best model training time was obtained for the second model (38.5 sec) versus the first (1m 25 sec)."
   ]
  },
  {
   "cell_type": "markdown",
   "id": "19cb05b3",
   "metadata": {
    "papermill": {
     "duration": 0.033304,
     "end_time": "2023-10-25T22:39:28.540458",
     "exception": false,
     "start_time": "2023-10-25T22:39:28.507154",
     "status": "completed"
    },
    "tags": []
   },
   "source": [
    "# 3. Testing"
   ]
  },
  {
   "cell_type": "markdown",
   "id": "09c94476",
   "metadata": {
    "papermill": {
     "duration": 0.031305,
     "end_time": "2023-10-25T22:39:28.603858",
     "exception": false,
     "start_time": "2023-10-25T22:39:28.572553",
     "status": "completed"
    },
    "tags": []
   },
   "source": [
    "Let's make model predictions and check the forecast time."
   ]
  },
  {
   "cell_type": "code",
   "execution_count": 53,
   "id": "798e7c6a",
   "metadata": {
    "execution": {
     "iopub.execute_input": "2023-10-25T22:39:28.667574Z",
     "iopub.status.busy": "2023-10-25T22:39:28.667275Z",
     "iopub.status.idle": "2023-10-25T22:39:28.810750Z",
     "shell.execute_reply": "2023-10-25T22:39:28.809859Z"
    },
    "papermill": {
     "duration": 0.177343,
     "end_time": "2023-10-25T22:39:28.812643",
     "exception": false,
     "start_time": "2023-10-25T22:39:28.635300",
     "status": "completed"
    },
    "tags": []
   },
   "outputs": [
    {
     "name": "stdout",
     "output_type": "stream",
     "text": [
      "CPU times: user 144 ms, sys: 15.8 ms, total: 160 ms\n",
      "Wall time: 139 ms\n"
     ]
    }
   ],
   "source": [
    "%%time\n",
    "predicted_test_cat = model_cat.predict(features_test)"
   ]
  },
  {
   "cell_type": "code",
   "execution_count": 54,
   "id": "c66c62e7",
   "metadata": {
    "execution": {
     "iopub.execute_input": "2023-10-25T22:39:28.879009Z",
     "iopub.status.busy": "2023-10-25T22:39:28.878442Z",
     "iopub.status.idle": "2023-10-25T22:39:28.885935Z",
     "shell.execute_reply": "2023-10-25T22:39:28.884376Z"
    },
    "papermill": {
     "duration": 0.044026,
     "end_time": "2023-10-25T22:39:28.888184",
     "exception": false,
     "start_time": "2023-10-25T22:39:28.844158",
     "status": "completed"
    },
    "tags": []
   },
   "outputs": [
    {
     "name": "stdout",
     "output_type": "stream",
     "text": [
      "RMSE CatBoost: 2182.512550384783\n"
     ]
    }
   ],
   "source": [
    "print(\"RMSE CatBoost:\", np.sqrt(mean_squared_error(target_test, predicted_test_cat)))"
   ]
  },
  {
   "cell_type": "code",
   "execution_count": 55,
   "id": "cdd22886",
   "metadata": {
    "execution": {
     "iopub.execute_input": "2023-10-25T22:39:28.953738Z",
     "iopub.status.busy": "2023-10-25T22:39:28.953386Z",
     "iopub.status.idle": "2023-10-25T22:39:29.009210Z",
     "shell.execute_reply": "2023-10-25T22:39:29.007584Z"
    },
    "papermill": {
     "duration": 0.09204,
     "end_time": "2023-10-25T22:39:29.011589",
     "exception": false,
     "start_time": "2023-10-25T22:39:28.919549",
     "status": "completed"
    },
    "tags": []
   },
   "outputs": [],
   "source": [
    "features_test[['FuelType', 'Gearbox', 'Brand', 'Model', 'Repaired', 'VehicleType']] = features_test[['FuelType', 'Gearbox', 'Brand', 'Model', 'Repaired', 'VehicleType']].astype('category')\n",
    "categorical_feature=['VehicleType', 'Gearbox', 'Model', 'FuelType', 'Brand', 'Repaired']"
   ]
  },
  {
   "cell_type": "code",
   "execution_count": 56,
   "id": "ab968af2",
   "metadata": {
    "execution": {
     "iopub.execute_input": "2023-10-25T22:39:29.077406Z",
     "iopub.status.busy": "2023-10-25T22:39:29.077064Z",
     "iopub.status.idle": "2023-10-25T22:39:29.215748Z",
     "shell.execute_reply": "2023-10-25T22:39:29.214233Z"
    },
    "papermill": {
     "duration": 0.175771,
     "end_time": "2023-10-25T22:39:29.219160",
     "exception": false,
     "start_time": "2023-10-25T22:39:29.043389",
     "status": "completed"
    },
    "tags": []
   },
   "outputs": [
    {
     "name": "stdout",
     "output_type": "stream",
     "text": [
      "CPU times: user 491 ms, sys: 0 ns, total: 491 ms\n",
      "Wall time: 131 ms\n"
     ]
    }
   ],
   "source": [
    "%%time\n",
    "predicted_test_lgbm = lgbm_model.predict(features_test)"
   ]
  },
  {
   "cell_type": "code",
   "execution_count": 57,
   "id": "60b631e3",
   "metadata": {
    "execution": {
     "iopub.execute_input": "2023-10-25T22:39:29.286041Z",
     "iopub.status.busy": "2023-10-25T22:39:29.285658Z",
     "iopub.status.idle": "2023-10-25T22:39:29.292054Z",
     "shell.execute_reply": "2023-10-25T22:39:29.291150Z"
    },
    "papermill": {
     "duration": 0.04287,
     "end_time": "2023-10-25T22:39:29.294907",
     "exception": false,
     "start_time": "2023-10-25T22:39:29.252037",
     "status": "completed"
    },
    "tags": []
   },
   "outputs": [
    {
     "name": "stdout",
     "output_type": "stream",
     "text": [
      "RMSE LightGBM: 2189.5622243023245\n"
     ]
    }
   ],
   "source": [
    "print(\"RMSE LightGBM:\", np.sqrt(mean_squared_error(target_test, predicted_test_lgbm)))"
   ]
  },
  {
   "cell_type": "markdown",
   "id": "1a8c00c9",
   "metadata": {
    "papermill": {
     "duration": 0.03234,
     "end_time": "2023-10-25T22:39:29.360529",
     "exception": false,
     "start_time": "2023-10-25T22:39:29.328189",
     "status": "completed"
    },
    "tags": []
   },
   "source": [
    "In terms of the speed of making a forecast, on the contrary, the best forecast value was obtained for the first model (399 ms versus 746 ms). The best value of model quality was obtained for the first CatBoostRegressor model (RMSE error value of about 2183), for the second model - about 2190."
   ]
  },
  {
   "cell_type": "markdown",
   "id": "b291c658",
   "metadata": {
    "papermill": {
     "duration": 0.033333,
     "end_time": "2023-10-25T22:39:29.425991",
     "exception": false,
     "start_time": "2023-10-25T22:39:29.392658",
     "status": "completed"
    },
    "tags": []
   },
   "source": [
    "During the work carried out, we analyzed the input data, processed duplicates, removed unnecessary information, and conducted a small exploratory analysis. In addition, we built CatBoostRegressor and LGBMRegressor models, having previously selected the best parameters for them. A smaller error value and less time spent on prediction were obtained for the first model, but for the second model the training time of the model itself was better."
   ]
  }
 ],
 "metadata": {
  "kernelspec": {
   "display_name": "Python 3",
   "language": "python",
   "name": "python3"
  },
  "language_info": {
   "codemirror_mode": {
    "name": "ipython",
    "version": 3
   },
   "file_extension": ".py",
   "mimetype": "text/x-python",
   "name": "python",
   "nbconvert_exporter": "python",
   "pygments_lexer": "ipython3",
   "version": "3.10.12"
  },
  "papermill": {
   "default_parameters": {},
   "duration": 246.959463,
   "end_time": "2023-10-25T22:39:30.281819",
   "environment_variables": {},
   "exception": null,
   "input_path": "__notebook__.ipynb",
   "output_path": "__notebook__.ipynb",
   "parameters": {},
   "start_time": "2023-10-25T22:35:23.322356",
   "version": "2.4.0"
  }
 },
 "nbformat": 4,
 "nbformat_minor": 5
}
